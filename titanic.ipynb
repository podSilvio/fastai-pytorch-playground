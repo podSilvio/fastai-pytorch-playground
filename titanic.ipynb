{
 "cells": [
  {
   "cell_type": "markdown",
   "source": [
    "### Titanic - fastai"
   ],
   "metadata": {
    "collapsed": false
   }
  },
  {
   "cell_type": "code",
   "execution_count": 46,
   "metadata": {
    "collapsed": true
   },
   "outputs": [],
   "source": [
    "import pandas as pd\n",
    "from fastai.tabular.all import *"
   ]
  },
  {
   "cell_type": "code",
   "execution_count": 47,
   "metadata": {},
   "outputs": [
    {
     "data": {
      "text/plain": "     PassengerId  Survived  Pclass  \\\n0              1         0       3   \n1              2         1       1   \n2              3         1       3   \n3              4         1       1   \n4              5         0       3   \n..           ...       ...     ...   \n886          887         0       2   \n887          888         1       1   \n888          889         0       3   \n889          890         1       1   \n890          891         0       3   \n\n                                                    Name     Sex   Age  SibSp  \\\n0                                Braund, Mr. Owen Harris    male  22.0      1   \n1    Cumings, Mrs. John Bradley (Florence Briggs Thayer)  female  38.0      1   \n2                                 Heikkinen, Miss. Laina  female  26.0      0   \n3           Futrelle, Mrs. Jacques Heath (Lily May Peel)  female  35.0      1   \n4                               Allen, Mr. William Henry    male  35.0      0   \n..                                                   ...     ...   ...    ...   \n886                                Montvila, Rev. Juozas    male  27.0      0   \n887                         Graham, Miss. Margaret Edith  female  19.0      0   \n888             Johnston, Miss. Catherine Helen \"Carrie\"  female   NaN      1   \n889                                Behr, Mr. Karl Howell    male  26.0      0   \n890                                  Dooley, Mr. Patrick    male  32.0      0   \n\n     Parch            Ticket     Fare Cabin Embarked  \n0        0         A/5 21171   7.2500   NaN        S  \n1        0          PC 17599  71.2833   C85        C  \n2        0  STON/O2. 3101282   7.9250   NaN        S  \n3        0            113803  53.1000  C123        S  \n4        0            373450   8.0500   NaN        S  \n..     ...               ...      ...   ...      ...  \n886      0            211536  13.0000   NaN        S  \n887      0            112053  30.0000   B42        S  \n888      2        W./C. 6607  23.4500   NaN        S  \n889      0            111369  30.0000  C148        C  \n890      0            370376   7.7500   NaN        Q  \n\n[891 rows x 12 columns]",
      "text/html": "<div>\n<style scoped>\n    .dataframe tbody tr th:only-of-type {\n        vertical-align: middle;\n    }\n\n    .dataframe tbody tr th {\n        vertical-align: top;\n    }\n\n    .dataframe thead th {\n        text-align: right;\n    }\n</style>\n<table border=\"1\" class=\"dataframe\">\n  <thead>\n    <tr style=\"text-align: right;\">\n      <th></th>\n      <th>PassengerId</th>\n      <th>Survived</th>\n      <th>Pclass</th>\n      <th>Name</th>\n      <th>Sex</th>\n      <th>Age</th>\n      <th>SibSp</th>\n      <th>Parch</th>\n      <th>Ticket</th>\n      <th>Fare</th>\n      <th>Cabin</th>\n      <th>Embarked</th>\n    </tr>\n  </thead>\n  <tbody>\n    <tr>\n      <th>0</th>\n      <td>1</td>\n      <td>0</td>\n      <td>3</td>\n      <td>Braund, Mr. Owen Harris</td>\n      <td>male</td>\n      <td>22.0</td>\n      <td>1</td>\n      <td>0</td>\n      <td>A/5 21171</td>\n      <td>7.2500</td>\n      <td>NaN</td>\n      <td>S</td>\n    </tr>\n    <tr>\n      <th>1</th>\n      <td>2</td>\n      <td>1</td>\n      <td>1</td>\n      <td>Cumings, Mrs. John Bradley (Florence Briggs Thayer)</td>\n      <td>female</td>\n      <td>38.0</td>\n      <td>1</td>\n      <td>0</td>\n      <td>PC 17599</td>\n      <td>71.2833</td>\n      <td>C85</td>\n      <td>C</td>\n    </tr>\n    <tr>\n      <th>2</th>\n      <td>3</td>\n      <td>1</td>\n      <td>3</td>\n      <td>Heikkinen, Miss. Laina</td>\n      <td>female</td>\n      <td>26.0</td>\n      <td>0</td>\n      <td>0</td>\n      <td>STON/O2. 3101282</td>\n      <td>7.9250</td>\n      <td>NaN</td>\n      <td>S</td>\n    </tr>\n    <tr>\n      <th>3</th>\n      <td>4</td>\n      <td>1</td>\n      <td>1</td>\n      <td>Futrelle, Mrs. Jacques Heath (Lily May Peel)</td>\n      <td>female</td>\n      <td>35.0</td>\n      <td>1</td>\n      <td>0</td>\n      <td>113803</td>\n      <td>53.1000</td>\n      <td>C123</td>\n      <td>S</td>\n    </tr>\n    <tr>\n      <th>4</th>\n      <td>5</td>\n      <td>0</td>\n      <td>3</td>\n      <td>Allen, Mr. William Henry</td>\n      <td>male</td>\n      <td>35.0</td>\n      <td>0</td>\n      <td>0</td>\n      <td>373450</td>\n      <td>8.0500</td>\n      <td>NaN</td>\n      <td>S</td>\n    </tr>\n    <tr>\n      <th>...</th>\n      <td>...</td>\n      <td>...</td>\n      <td>...</td>\n      <td>...</td>\n      <td>...</td>\n      <td>...</td>\n      <td>...</td>\n      <td>...</td>\n      <td>...</td>\n      <td>...</td>\n      <td>...</td>\n      <td>...</td>\n    </tr>\n    <tr>\n      <th>886</th>\n      <td>887</td>\n      <td>0</td>\n      <td>2</td>\n      <td>Montvila, Rev. Juozas</td>\n      <td>male</td>\n      <td>27.0</td>\n      <td>0</td>\n      <td>0</td>\n      <td>211536</td>\n      <td>13.0000</td>\n      <td>NaN</td>\n      <td>S</td>\n    </tr>\n    <tr>\n      <th>887</th>\n      <td>888</td>\n      <td>1</td>\n      <td>1</td>\n      <td>Graham, Miss. Margaret Edith</td>\n      <td>female</td>\n      <td>19.0</td>\n      <td>0</td>\n      <td>0</td>\n      <td>112053</td>\n      <td>30.0000</td>\n      <td>B42</td>\n      <td>S</td>\n    </tr>\n    <tr>\n      <th>888</th>\n      <td>889</td>\n      <td>0</td>\n      <td>3</td>\n      <td>Johnston, Miss. Catherine Helen \"Carrie\"</td>\n      <td>female</td>\n      <td>NaN</td>\n      <td>1</td>\n      <td>2</td>\n      <td>W./C. 6607</td>\n      <td>23.4500</td>\n      <td>NaN</td>\n      <td>S</td>\n    </tr>\n    <tr>\n      <th>889</th>\n      <td>890</td>\n      <td>1</td>\n      <td>1</td>\n      <td>Behr, Mr. Karl Howell</td>\n      <td>male</td>\n      <td>26.0</td>\n      <td>0</td>\n      <td>0</td>\n      <td>111369</td>\n      <td>30.0000</td>\n      <td>C148</td>\n      <td>C</td>\n    </tr>\n    <tr>\n      <th>890</th>\n      <td>891</td>\n      <td>0</td>\n      <td>3</td>\n      <td>Dooley, Mr. Patrick</td>\n      <td>male</td>\n      <td>32.0</td>\n      <td>0</td>\n      <td>0</td>\n      <td>370376</td>\n      <td>7.7500</td>\n      <td>NaN</td>\n      <td>Q</td>\n    </tr>\n  </tbody>\n</table>\n<p>891 rows × 12 columns</p>\n</div>"
     },
     "execution_count": 47,
     "metadata": {},
     "output_type": "execute_result"
    }
   ],
   "source": [
    "# Read titanic dataset\n",
    "df = pd.read_csv('titanic-dataset/train.csv')\n",
    "df"
   ]
  },
  {
   "cell_type": "markdown",
   "metadata": {},
   "source": [
    "We need to put data in *DataLoaders* (dls) class in fastai. To do that, we have wrapper around *DataLoader* for tabular datam which is called *TabularDataLoaders*"
   ]
  },
  {
   "cell_type": "code",
   "execution_count": 48,
   "metadata": {},
   "outputs": [],
   "source": [
    "# Use fastai RandomSplitter to train-test-split data (df)\n",
    "splits = RandomSplitter(seed=42)(df)"
   ]
  },
  {
   "cell_type": "code",
   "execution_count": 49,
   "metadata": {},
   "outputs": [],
   "source": [
    "\"\"\"\n",
    "y_block = CategoryBlock() - our target value is encoded (survived or not survived), so we need to explicitly pass this value so fastai won't presume we are doing regression\n",
    "\"\"\"\n",
    "tp = TabularPandas(\n",
    "    df,\n",
    "    splits=splits,\n",
    "    procs=[Categorify, FillMissing, Normalize],\n",
    "    cat_names=['Pclass', 'Sex', 'Embarked'],\n",
    "    cont_names=['Age', 'SibSp', 'Parch', 'Fare'],\n",
    "    y_names='Survived',\n",
    "    y_block=CategoryBlock()\n",
    ")"
   ]
  },
  {
   "cell_type": "code",
   "execution_count": 50,
   "metadata": {},
   "outputs": [
    {
     "data": {
      "text/plain": "{'dataloaders': <bound method FilteredBase.dataloaders of      PassengerId  Survived  Pclass                                   Name  \\\n 788          789         1       3             Dean, Master. Bertram Vere   \n 525          526         0       3                     Farrell, Mr. James   \n 821          822         1       3                      Lulic, Mr. Nikola   \n 253          254         0       3               Lobb, Mr. William Arthur   \n 374          375         0       3             Palsson, Miss. Stina Viola   \n ..           ...       ...     ...                                    ...   \n 770          771         0       3                 Lievens, Mr. Rene Aime   \n 414          415         1       3              Sundman, Mr. Johan Julian   \n 540          541         1       1                Crosby, Miss. Harriet R   \n 298          299         1       1                  Saalfeld, Mr. Adolphe   \n 489          490         1       3  Coutts, Master. Eden Leslie \"Neville\"   \n \n      Sex       Age     SibSp     Parch             Ticket      Fare Cabin  \\\n 788    2 -2.182087  0.461591  2.034995          C.A. 2315 -0.226999   NaN   \n 525    2  0.861920 -0.462887 -0.464491             367232 -0.477002   NaN   \n 821    2 -0.178437 -0.462887 -0.464491             315098 -0.459214   NaN   \n 253    2  0.052753  0.461591 -0.464491          A/5. 3336 -0.314232   NaN   \n 374    1 -2.027960  2.310547  0.785252             349909 -0.217253   NaN   \n ..   ...       ...       ...       ...                ...       ...   ...   \n 770    2 -0.409628 -0.462887 -0.464491             345781 -0.442889   NaN   \n 414    2  1.131642 -0.462887 -0.464491  STON/O 2. 3101269 -0.473591   NaN   \n 540    1  0.515134 -0.462887  2.034995          WE/P 5735  0.755954   B22   \n 298    2 -0.101374 -0.462887 -0.464491              19988 -0.033528  C106   \n 489    2 -1.565580  0.461591  0.785252         C.A. 37671 -0.318131   NaN   \n \n      Embarked  Age_na  \n 788         3       1  \n 525         2       1  \n 821         3       1  \n 253         3       1  \n 374         3       1  \n ..        ...     ...  \n 770         3       1  \n 414         3       1  \n 540         3       1  \n 298         3       2  \n 489         3       1  \n \n [891 rows x 13 columns]>,\n 'items':      PassengerId  Survived  Pclass                                   Name  \\\n 788          789         1       3             Dean, Master. Bertram Vere   \n 525          526         0       3                     Farrell, Mr. James   \n 821          822         1       3                      Lulic, Mr. Nikola   \n 253          254         0       3               Lobb, Mr. William Arthur   \n 374          375         0       3             Palsson, Miss. Stina Viola   \n ..           ...       ...     ...                                    ...   \n 770          771         0       3                 Lievens, Mr. Rene Aime   \n 414          415         1       3              Sundman, Mr. Johan Julian   \n 540          541         1       1                Crosby, Miss. Harriet R   \n 298          299         1       1                  Saalfeld, Mr. Adolphe   \n 489          490         1       3  Coutts, Master. Eden Leslie \"Neville\"   \n \n      Sex       Age     SibSp     Parch             Ticket      Fare Cabin  \\\n 788    2 -2.182087  0.461591  2.034995          C.A. 2315 -0.226999   NaN   \n 525    2  0.861920 -0.462887 -0.464491             367232 -0.477002   NaN   \n 821    2 -0.178437 -0.462887 -0.464491             315098 -0.459214   NaN   \n 253    2  0.052753  0.461591 -0.464491          A/5. 3336 -0.314232   NaN   \n 374    1 -2.027960  2.310547  0.785252             349909 -0.217253   NaN   \n ..   ...       ...       ...       ...                ...       ...   ...   \n 770    2 -0.409628 -0.462887 -0.464491             345781 -0.442889   NaN   \n 414    2  1.131642 -0.462887 -0.464491  STON/O 2. 3101269 -0.473591   NaN   \n 540    1  0.515134 -0.462887  2.034995          WE/P 5735  0.755954   B22   \n 298    2 -0.101374 -0.462887 -0.464491              19988 -0.033528  C106   \n 489    2 -1.565580  0.461591  0.785252         C.A. 37671 -0.318131   NaN   \n \n      Embarked  Age_na  \n 788         3       1  \n 525         2       1  \n 821         3       1  \n 253         3       1  \n 374         3       1  \n ..        ...     ...  \n 770         3       1  \n 414         3       1  \n 540         3       1  \n 298         3       2  \n 489         3       1  \n \n [891 rows x 13 columns],\n 'y_names': (#1) ['Survived'],\n 'device': None,\n 'cat_names': (#4) ['Pclass','Sex','Embarked','Age_na'],\n 'cont_names': (#4) ['Age','SibSp','Parch','Fare'],\n 'procs': Pipeline: FillMissing -- {'fill_strategy': <function FillStrategy.median at 0x7fcb082d7a60>, 'add_col': True, 'fill_vals': defaultdict(<class 'int'>, {'Age': 0}), 'na_dict': {'Age': 28.0}} -> Categorify -- {'classes': {'Pclass': ['#na#', 1, 2, 3], 'Sex': ['#na#', 'female', 'male'], 'Embarked': ['#na#', 'C', 'Q', 'S'], 'Age_na': ['#na#', False, True]}} -> Categorize -- {'vocab': None, 'sort': True, 'add_na': False} -> Normalize -- {'mean': None, 'std': None, 'axes': (0, 2, 3), 'means': {'Age': 29.31545639038086, 'SibSp': 0.5007012622720898, 'Parch': 0.37166900420757365, 'Fare': 32.2199592590332}, 'stds': {'Age': 12.976316552026367, 'SibSp': 1.0816911877015642, 'Parch': 0.8001646289132641, 'Fare': 51.299495797021486}},\n 'split': 713}"
     },
     "execution_count": 50,
     "metadata": {},
     "output_type": "execute_result"
    }
   ],
   "source": [
    "# See what is inside tabular pandas object\n",
    "tp.__dict__"
   ]
  },
  {
   "cell_type": "code",
   "execution_count": 51,
   "metadata": {},
   "outputs": [],
   "source": [
    "# Create DataLoaders\n",
    "dls = tp.dataloaders(bs=64)"
   ]
  },
  {
   "cell_type": "code",
   "execution_count": 52,
   "metadata": {},
   "outputs": [
    {
     "data": {
      "text/plain": "<IPython.core.display.HTML object>",
      "text/html": "<table border=\"1\" class=\"dataframe\">\n  <thead>\n    <tr style=\"text-align: right;\">\n      <th></th>\n      <th>Pclass</th>\n      <th>Sex</th>\n      <th>Embarked</th>\n      <th>Age_na</th>\n      <th>Age</th>\n      <th>SibSp</th>\n      <th>Parch</th>\n      <th>Fare</th>\n      <th>Survived</th>\n    </tr>\n  </thead>\n  <tbody>\n    <tr>\n      <th>0</th>\n      <td>2</td>\n      <td>male</td>\n      <td>S</td>\n      <td>False</td>\n      <td>30.000000</td>\n      <td>1.689237e-09</td>\n      <td>-9.897945e-09</td>\n      <td>13.000001</td>\n      <td>0</td>\n    </tr>\n    <tr>\n      <th>1</th>\n      <td>1</td>\n      <td>female</td>\n      <td>S</td>\n      <td>False</td>\n      <td>22.000000</td>\n      <td>1.689237e-09</td>\n      <td>1.000000e+00</td>\n      <td>54.999999</td>\n      <td>1</td>\n    </tr>\n    <tr>\n      <th>2</th>\n      <td>3</td>\n      <td>male</td>\n      <td>S</td>\n      <td>False</td>\n      <td>33.000000</td>\n      <td>1.689237e-09</td>\n      <td>-9.897945e-09</td>\n      <td>7.895800</td>\n      <td>0</td>\n    </tr>\n    <tr>\n      <th>3</th>\n      <td>1</td>\n      <td>male</td>\n      <td>S</td>\n      <td>False</td>\n      <td>47.999999</td>\n      <td>1.000000e+00</td>\n      <td>-9.897945e-09</td>\n      <td>52.000001</td>\n      <td>1</td>\n    </tr>\n    <tr>\n      <th>4</th>\n      <td>3</td>\n      <td>female</td>\n      <td>S</td>\n      <td>False</td>\n      <td>29.000000</td>\n      <td>1.689237e-09</td>\n      <td>4.000000e+00</td>\n      <td>21.075001</td>\n      <td>0</td>\n    </tr>\n    <tr>\n      <th>5</th>\n      <td>1</td>\n      <td>male</td>\n      <td>S</td>\n      <td>False</td>\n      <td>37.000000</td>\n      <td>1.000000e+00</td>\n      <td>-9.897945e-09</td>\n      <td>53.099998</td>\n      <td>0</td>\n    </tr>\n    <tr>\n      <th>6</th>\n      <td>2</td>\n      <td>male</td>\n      <td>S</td>\n      <td>False</td>\n      <td>30.000000</td>\n      <td>1.689237e-09</td>\n      <td>-9.897945e-09</td>\n      <td>10.500000</td>\n      <td>0</td>\n    </tr>\n    <tr>\n      <th>7</th>\n      <td>1</td>\n      <td>male</td>\n      <td>S</td>\n      <td>False</td>\n      <td>4.000000</td>\n      <td>1.689237e-09</td>\n      <td>2.000000e+00</td>\n      <td>81.858299</td>\n      <td>1</td>\n    </tr>\n    <tr>\n      <th>8</th>\n      <td>1</td>\n      <td>male</td>\n      <td>S</td>\n      <td>False</td>\n      <td>47.000000</td>\n      <td>1.689237e-09</td>\n      <td>-9.897945e-09</td>\n      <td>52.000001</td>\n      <td>0</td>\n    </tr>\n    <tr>\n      <th>9</th>\n      <td>2</td>\n      <td>female</td>\n      <td>S</td>\n      <td>False</td>\n      <td>41.000000</td>\n      <td>1.689237e-09</td>\n      <td>1.000000e+00</td>\n      <td>19.500000</td>\n      <td>1</td>\n    </tr>\n  </tbody>\n</table>"
     },
     "metadata": {},
     "output_type": "display_data"
    }
   ],
   "source": [
    "dls.show_batch()"
   ]
  },
  {
   "cell_type": "markdown",
   "metadata": {},
   "source": [
    "### Model Training"
   ]
  },
  {
   "cell_type": "code",
   "execution_count": 53,
   "metadata": {},
   "outputs": [],
   "source": [
    "# Create a learner  using dls with specific metric\n",
    "learner = tabular_learner(dls, metrics=accuracy, layers=[10,10])"
   ]
  },
  {
   "cell_type": "code",
   "execution_count": 54,
   "metadata": {},
   "outputs": [
    {
     "data": {
      "text/plain": "<IPython.core.display.HTML object>",
      "text/html": "\n<style>\n    /* Turns off some styling */\n    progress {\n        /* gets rid of default border in Firefox and Opera. */\n        border: none;\n        /* Needs to be in here for Safari polyfill so background images work as expected. */\n        background-size: auto;\n    }\n    progress:not([value]), progress:not([value])::-webkit-progress-bar {\n        background: repeating-linear-gradient(45deg, #7e7e7e, #7e7e7e 10px, #5c5c5c 10px, #5c5c5c 20px);\n    }\n    .progress-bar-interrupted, .progress-bar-interrupted::-webkit-progress-bar {\n        background: #F44336;\n    }\n</style>\n"
     },
     "metadata": {},
     "output_type": "display_data"
    },
    {
     "data": {
      "text/plain": "<IPython.core.display.HTML object>",
      "text/html": "\n    <div>\n      <progress value='0' class='' max='10' style='width:300px; height:20px; vertical-align: middle;'></progress>\n      \n    </div>\n    \n"
     },
     "metadata": {},
     "output_type": "display_data"
    },
    {
     "data": {
      "text/plain": "SuggestedLRs(slide=0.05754399299621582, valley=0.009120108559727669)"
     },
     "execution_count": 54,
     "metadata": {},
     "output_type": "execute_result"
    },
    {
     "data": {
      "text/plain": "<Figure size 640x480 with 1 Axes>",
      "image/png": "[encoded data removed]"
     },
     "metadata": {},
     "output_type": "display_data"
    }
   ],
   "source": [
    "# Choose a good learning rate (something between slide and valley)\n",
    "learner.lr_find(suggest_funcs=(slide, valley))"
   ]
  },
  {
   "cell_type": "code",
   "execution_count": 55,
   "metadata": {},
   "outputs": [
    {
     "data": {
      "text/plain": "<IPython.core.display.HTML object>",
      "text/html": "\n<style>\n    /* Turns off some styling */\n    progress {\n        /* gets rid of default border in Firefox and Opera. */\n        border: none;\n        /* Needs to be in here for Safari polyfill so background images work as expected. */\n        background-size: auto;\n    }\n    progress:not([value]), progress:not([value])::-webkit-progress-bar {\n        background: repeating-linear-gradient(45deg, #7e7e7e, #7e7e7e 10px, #5c5c5c 10px, #5c5c5c 20px);\n    }\n    .progress-bar-interrupted, .progress-bar-interrupted::-webkit-progress-bar {\n        background: #F44336;\n    }\n</style>\n"
     },
     "metadata": {},
     "output_type": "display_data"
    },
    {
     "data": {
      "text/plain": "<IPython.core.display.HTML object>",
      "text/html": "\n    <div>\n      <progress value='0' class='' max='16' style='width:300px; height:20px; vertical-align: middle;'></progress>\n      \n    </div>\n    \n"
     },
     "metadata": {},
     "output_type": "display_data"
    }
   ],
   "source": [
    "# fit the learner on n_epochs with specified lr\n",
    "learner.fit(16, lr=0.04)"
   ]
  },
  {
   "cell_type": "code",
   "execution_count": 56,
   "metadata": {},
   "outputs": [],
   "source": [
    "# We can save model as .pkl file\n",
    "learner.export(fname='exportLearner.pkl')"
   ]
  },
  {
   "cell_type": "markdown",
   "source": [
    "### Predictions"
   ],
   "metadata": {
    "collapsed": false
   }
  },
  {
   "cell_type": "code",
   "execution_count": 57,
   "outputs": [
    {
     "data": {
      "text/plain": "     PassengerId  Pclass                                          Name  \\\n0            892       3                              Kelly, Mr. James   \n1            893       3              Wilkes, Mrs. James (Ellen Needs)   \n2            894       2                     Myles, Mr. Thomas Francis   \n3            895       3                              Wirz, Mr. Albert   \n4            896       3  Hirvonen, Mrs. Alexander (Helga E Lindqvist)   \n..           ...     ...                                           ...   \n413         1305       3                            Spector, Mr. Woolf   \n414         1306       1                  Oliva y Ocana, Dona. Fermina   \n415         1307       3                  Saether, Mr. Simon Sivertsen   \n416         1308       3                           Ware, Mr. Frederick   \n417         1309       3                      Peter, Master. Michael J   \n\n        Sex   Age  SibSp  Parch              Ticket      Fare Cabin Embarked  \n0      male  34.5      0      0              330911    7.8292   NaN        Q  \n1    female  47.0      1      0              363272    7.0000   NaN        S  \n2      male  62.0      0      0              240276    9.6875   NaN        Q  \n3      male  27.0      0      0              315154    8.6625   NaN        S  \n4    female  22.0      1      1             3101298   12.2875   NaN        S  \n..      ...   ...    ...    ...                 ...       ...   ...      ...  \n413    male   NaN      0      0           A.5. 3236    8.0500   NaN        S  \n414  female  39.0      0      0            PC 17758  108.9000  C105        C  \n415    male  38.5      0      0  SOTON/O.Q. 3101262    7.2500   NaN        S  \n416    male   NaN      0      0              359309    8.0500   NaN        S  \n417    male   NaN      1      1                2668   22.3583   NaN        C  \n\n[418 rows x 11 columns]",
      "text/html": "<div>\n<style scoped>\n    .dataframe tbody tr th:only-of-type {\n        vertical-align: middle;\n    }\n\n    .dataframe tbody tr th {\n        vertical-align: top;\n    }\n\n    .dataframe thead th {\n        text-align: right;\n    }\n</style>\n<table border=\"1\" class=\"dataframe\">\n  <thead>\n    <tr style=\"text-align: right;\">\n      <th></th>\n      <th>PassengerId</th>\n      <th>Pclass</th>\n      <th>Name</th>\n      <th>Sex</th>\n      <th>Age</th>\n      <th>SibSp</th>\n      <th>Parch</th>\n      <th>Ticket</th>\n      <th>Fare</th>\n      <th>Cabin</th>\n      <th>Embarked</th>\n    </tr>\n  </thead>\n  <tbody>\n    <tr>\n      <th>0</th>\n      <td>892</td>\n      <td>3</td>\n      <td>Kelly, Mr. James</td>\n      <td>male</td>\n      <td>34.5</td>\n      <td>0</td>\n      <td>0</td>\n      <td>330911</td>\n      <td>7.8292</td>\n      <td>NaN</td>\n      <td>Q</td>\n    </tr>\n    <tr>\n      <th>1</th>\n      <td>893</td>\n      <td>3</td>\n      <td>Wilkes, Mrs. James (Ellen Needs)</td>\n      <td>female</td>\n      <td>47.0</td>\n      <td>1</td>\n      <td>0</td>\n      <td>363272</td>\n      <td>7.0000</td>\n      <td>NaN</td>\n      <td>S</td>\n    </tr>\n    <tr>\n      <th>2</th>\n      <td>894</td>\n      <td>2</td>\n      <td>Myles, Mr. Thomas Francis</td>\n      <td>male</td>\n      <td>62.0</td>\n      <td>0</td>\n      <td>0</td>\n      <td>240276</td>\n      <td>9.6875</td>\n      <td>NaN</td>\n      <td>Q</td>\n    </tr>\n    <tr>\n      <th>3</th>\n      <td>895</td>\n      <td>3</td>\n      <td>Wirz, Mr. Albert</td>\n      <td>male</td>\n      <td>27.0</td>\n      <td>0</td>\n      <td>0</td>\n      <td>315154</td>\n      <td>8.6625</td>\n      <td>NaN</td>\n      <td>S</td>\n    </tr>\n    <tr>\n      <th>4</th>\n      <td>896</td>\n      <td>3</td>\n      <td>Hirvonen, Mrs. Alexander (Helga E Lindqvist)</td>\n      <td>female</td>\n      <td>22.0</td>\n      <td>1</td>\n      <td>1</td>\n      <td>3101298</td>\n      <td>12.2875</td>\n      <td>NaN</td>\n      <td>S</td>\n    </tr>\n    <tr>\n      <th>...</th>\n      <td>...</td>\n      <td>...</td>\n      <td>...</td>\n      <td>...</td>\n      <td>...</td>\n      <td>...</td>\n      <td>...</td>\n      <td>...</td>\n      <td>...</td>\n      <td>...</td>\n      <td>...</td>\n    </tr>\n    <tr>\n      <th>413</th>\n      <td>1305</td>\n      <td>3</td>\n      <td>Spector, Mr. Woolf</td>\n      <td>male</td>\n      <td>NaN</td>\n      <td>0</td>\n      <td>0</td>\n      <td>A.5. 3236</td>\n      <td>8.0500</td>\n      <td>NaN</td>\n      <td>S</td>\n    </tr>\n    <tr>\n      <th>414</th>\n      <td>1306</td>\n      <td>1</td>\n      <td>Oliva y Ocana, Dona. Fermina</td>\n      <td>female</td>\n      <td>39.0</td>\n      <td>0</td>\n      <td>0</td>\n      <td>PC 17758</td>\n      <td>108.9000</td>\n      <td>C105</td>\n      <td>C</td>\n    </tr>\n    <tr>\n      <th>415</th>\n      <td>1307</td>\n      <td>3</td>\n      <td>Saether, Mr. Simon Sivertsen</td>\n      <td>male</td>\n      <td>38.5</td>\n      <td>0</td>\n      <td>0</td>\n      <td>SOTON/O.Q. 3101262</td>\n      <td>7.2500</td>\n      <td>NaN</td>\n      <td>S</td>\n    </tr>\n    <tr>\n      <th>416</th>\n      <td>1308</td>\n      <td>3</td>\n      <td>Ware, Mr. Frederick</td>\n      <td>male</td>\n      <td>NaN</td>\n      <td>0</td>\n      <td>0</td>\n      <td>359309</td>\n      <td>8.0500</td>\n      <td>NaN</td>\n      <td>S</td>\n    </tr>\n    <tr>\n      <th>417</th>\n      <td>1309</td>\n      <td>3</td>\n      <td>Peter, Master. Michael J</td>\n      <td>male</td>\n      <td>NaN</td>\n      <td>1</td>\n      <td>1</td>\n      <td>2668</td>\n      <td>22.3583</td>\n      <td>NaN</td>\n      <td>C</td>\n    </tr>\n  </tbody>\n</table>\n<p>418 rows × 11 columns</p>\n</div>"
     },
     "execution_count": 57,
     "metadata": {},
     "output_type": "execute_result"
    }
   ],
   "source": [
    "# Read test set\n",
    "test_df = pd.read_csv('titanic-dataset/test.csv')\n",
    "test_df"
   ],
   "metadata": {
    "collapsed": false
   }
  },
  {
   "cell_type": "code",
   "execution_count": 58,
   "outputs": [
    {
     "data": {
      "text/plain": "0"
     },
     "execution_count": 58,
     "metadata": {},
     "output_type": "execute_result"
    }
   ],
   "source": [
    "# There are NaN value in 'Fare' but not in setup training set\n",
    "test_df['Fare'] = test_df.Fare.fillna(0)\n",
    "test_df.Fare.isna().sum()"
   ],
   "metadata": {
    "collapsed": false
   }
  },
  {
   "cell_type": "code",
   "execution_count": 59,
   "outputs": [],
   "source": [
    "# test_dl method apply all processing steps on test set. No need to manually change anything\n",
    "test_dls = learner.dls.test_dl(test_df)"
   ],
   "metadata": {
    "collapsed": false
   }
  },
  {
   "cell_type": "code",
   "execution_count": 60,
   "outputs": [
    {
     "data": {
      "text/plain": "{'after_item': Pipeline: ,\n 'before_batch': Pipeline: ,\n 'after_batch': Pipeline: ReadTabBatch,\n '__stored_args__': {'dataset':      PassengerId  Pclass                                          Name  Sex  \\\n  0            892       3                              Kelly, Mr. James    2   \n  1            893       3              Wilkes, Mrs. James (Ellen Needs)    1   \n  2            894       2                     Myles, Mr. Thomas Francis    2   \n  3            895       3                              Wirz, Mr. Albert    2   \n  4            896       3  Hirvonen, Mrs. Alexander (Helga E Lindqvist)    1   \n  ..           ...     ...                                           ...  ...   \n  413         1305       3                            Spector, Mr. Woolf    2   \n  414         1306       1                  Oliva y Ocana, Dona. Fermina    1   \n  415         1307       3                  Saether, Mr. Simon Sivertsen    2   \n  416         1308       3                           Ware, Mr. Frederick    2   \n  417         1309       3                      Peter, Master. Michael J    2   \n  \n            Age     SibSp     Parch              Ticket      Fare Cabin  \\\n  0    0.399539 -0.462887 -0.464491              330911 -0.475458   NaN   \n  1    1.362832  0.461591 -0.464491              363272 -0.491622   NaN   \n  2    2.518784 -0.462887 -0.464491              240276 -0.439234   NaN   \n  3   -0.178437 -0.462887 -0.464491              315154 -0.459214   NaN   \n  4   -0.563754  0.461591  0.785252             3101298 -0.388551   NaN   \n  ..        ...       ...       ...                 ...       ...   ...   \n  413 -0.101374 -0.462887 -0.464491           A.5. 3236 -0.471154   NaN   \n  414  0.746325 -0.462887 -0.464491            PC 17758  1.494752  C105   \n  415  0.707793 -0.462887 -0.464491  SOTON/O.Q. 3101262 -0.486749   NaN   \n  416 -0.101374 -0.462887 -0.464491              359309 -0.471154   NaN   \n  417 -0.101374  0.461591  0.785252                2668 -0.192237   NaN   \n  \n       Embarked  Age_na  \n  0           2       1  \n  1           3       1  \n  2           2       1  \n  3           3       1  \n  4           3       1  \n  ..        ...     ...  \n  413         3       2  \n  414         1       1  \n  415         3       1  \n  416         3       2  \n  417         1       2  \n  \n  [418 rows x 12 columns],\n  'bs': 64,\n  'shuffle': False,\n  'drop_last': False,\n  'indexed': True,\n  'n': 418,\n  'pin_memory': False,\n  'timeout': 0,\n  'device': device(type='cpu')},\n 'dataset':      PassengerId  Pclass                                          Name  Sex  \\\n 0            892       3                              Kelly, Mr. James    2   \n 1            893       3              Wilkes, Mrs. James (Ellen Needs)    1   \n 2            894       2                     Myles, Mr. Thomas Francis    2   \n 3            895       3                              Wirz, Mr. Albert    2   \n 4            896       3  Hirvonen, Mrs. Alexander (Helga E Lindqvist)    1   \n ..           ...     ...                                           ...  ...   \n 413         1305       3                            Spector, Mr. Woolf    2   \n 414         1306       1                  Oliva y Ocana, Dona. Fermina    1   \n 415         1307       3                  Saether, Mr. Simon Sivertsen    2   \n 416         1308       3                           Ware, Mr. Frederick    2   \n 417         1309       3                      Peter, Master. Michael J    2   \n \n           Age     SibSp     Parch              Ticket      Fare Cabin  \\\n 0    0.399539 -0.462887 -0.464491              330911 -0.475458   NaN   \n 1    1.362832  0.461591 -0.464491              363272 -0.491622   NaN   \n 2    2.518784 -0.462887 -0.464491              240276 -0.439234   NaN   \n 3   -0.178437 -0.462887 -0.464491              315154 -0.459214   NaN   \n 4   -0.563754  0.461591  0.785252             3101298 -0.388551   NaN   \n ..        ...       ...       ...                 ...       ...   ...   \n 413 -0.101374 -0.462887 -0.464491           A.5. 3236 -0.471154   NaN   \n 414  0.746325 -0.462887 -0.464491            PC 17758  1.494752  C105   \n 415  0.707793 -0.462887 -0.464491  SOTON/O.Q. 3101262 -0.486749   NaN   \n 416 -0.101374 -0.462887 -0.464491              359309 -0.471154   NaN   \n 417 -0.101374  0.461591  0.785252                2668 -0.192237   NaN   \n \n      Embarked  Age_na  \n 0           2       1  \n 1           3       1  \n 2           2       1  \n 3           3       1  \n 4           3       1  \n ..        ...     ...  \n 413         3       2  \n 414         1       1  \n 415         3       1  \n 416         3       2  \n 417         1       2  \n \n [418 rows x 12 columns],\n 'bs': 64,\n 'shuffle': False,\n 'drop_last': False,\n 'indexed': True,\n 'n': 418,\n 'pin_memory': False,\n 'timeout': 0,\n 'device': device(type='cpu'),\n 'rng': <random.Random at 0x83048f0>,\n 'num_workers': 1,\n 'offs': 0,\n 'fake_l': <fastai.data.load._FakeLoader at 0x7fcbb4bdebb0>,\n '_n_inp': 2,\n '_types': {tuple: [torch.Tensor, torch.Tensor, torch.Tensor]}}"
     },
     "execution_count": 60,
     "metadata": {},
     "output_type": "execute_result"
    }
   ],
   "source": [
    "# See what is inside test_dls\n",
    "test_dls.__dict__"
   ],
   "metadata": {
    "collapsed": false
   }
  },
  {
   "cell_type": "code",
   "execution_count": 61,
   "outputs": [
    {
     "data": {
      "text/plain": "<IPython.core.display.HTML object>",
      "text/html": "\n<style>\n    /* Turns off some styling */\n    progress {\n        /* gets rid of default border in Firefox and Opera. */\n        border: none;\n        /* Needs to be in here for Safari polyfill so background images work as expected. */\n        background-size: auto;\n    }\n    progress:not([value]), progress:not([value])::-webkit-progress-bar {\n        background: repeating-linear-gradient(45deg, #7e7e7e, #7e7e7e 10px, #5c5c5c 10px, #5c5c5c 20px);\n    }\n    .progress-bar-interrupted, .progress-bar-interrupted::-webkit-progress-bar {\n        background: #F44336;\n    }\n</style>\n"
     },
     "metadata": {},
     "output_type": "display_data"
    },
    {
     "data": {
      "text/plain": "<IPython.core.display.HTML object>",
      "text/html": "\n    <div>\n      <progress value='0' class='' max='7' style='width:300px; height:20px; vertical-align: middle;'></progress>\n      \n    </div>\n    "
     },
     "metadata": {},
     "output_type": "display_data"
    }
   ],
   "source": [
    "# get predictions\n",
    "preds, targs = learner.get_preds(dl=test_dls)"
   ],
   "metadata": {
    "collapsed": false
   }
  },
  {
   "cell_type": "code",
   "execution_count": 62,
   "outputs": [
    {
     "data": {
      "text/plain": "tensor([[0.9142, 0.0858],\n        [0.5944, 0.4056],\n        [0.9538, 0.0462],\n        [0.8538, 0.1462],\n        [0.7297, 0.2703]])"
     },
     "execution_count": 62,
     "metadata": {},
     "output_type": "execute_result"
    }
   ],
   "source": [
    "# Print first five predictions\n",
    "preds[0:5]"
   ],
   "metadata": {
    "collapsed": false
   }
  },
  {
   "cell_type": "markdown",
   "source": [
    "### Submit"
   ],
   "metadata": {
    "collapsed": false
   }
  },
  {
   "cell_type": "code",
   "execution_count": 63,
   "outputs": [],
   "source": [
    "# Create a submission CSV for Kaggle\n",
    "test_df['Survived'] = (preds[:, 1]>0.5).int()\n",
    "sub_df = test_df[['PassengerId', 'Survived']]\n",
    "sub_df.to_csv('sub.csv', index=False)"
   ],
   "metadata": {
    "collapsed": false
   }
  },
  {
   "cell_type": "code",
   "execution_count": 64,
   "outputs": [
    {
     "name": "stdout",
     "output_type": "stream",
     "text": [
      "PassengerId,Survived\r\n",
      "892,0\r\n",
      "893,0\r\n",
      "894,0\r\n",
      "895,0\r\n",
      "896,0\r\n",
      "897,0\r\n",
      "898,0\r\n",
      "899,0\r\n",
      "900,1\r\n"
     ]
    }
   ],
   "source": [
    "!head sub.csv"
   ],
   "metadata": {
    "collapsed": false
   }
  }
 ],
 "metadata": {
  "kernelspec": {
   "display_name": "Python 3 (ipykernel)",
   "language": "python",
   "name": "python3"
  },
  "language_info": {
   "codemirror_mode": {
    "name": "ipython",
    "version": 3
   },
   "file_extension": ".py",
   "mimetype": "text/x-python",
   "name": "python",
   "nbconvert_exporter": "python",
   "pygments_lexer": "ipython3",
   "version": "3.8.10"
  }
 },
 "nbformat": 4,
 "nbformat_minor": 1
}
