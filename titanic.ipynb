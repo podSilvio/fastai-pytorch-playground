{
 "cells": [
  {
   "cell_type": "code",
   "execution_count": 1,
   "metadata": {
    "collapsed": true
   },
   "outputs": [],
   "source": [
    "import pandas as pd\n",
    "from fastai.tabular.all import *"
   ]
  },
  {
   "cell_type": "code",
   "execution_count": 2,
   "metadata": {},
   "outputs": [
    {
     "data": {
      "text/plain": "     PassengerId  Survived  Pclass  \\\n0              1         0       3   \n1              2         1       1   \n2              3         1       3   \n3              4         1       1   \n4              5         0       3   \n..           ...       ...     ...   \n886          887         0       2   \n887          888         1       1   \n888          889         0       3   \n889          890         1       1   \n890          891         0       3   \n\n                                                    Name     Sex   Age  SibSp  \\\n0                                Braund, Mr. Owen Harris    male  22.0      1   \n1    Cumings, Mrs. John Bradley (Florence Briggs Thayer)  female  38.0      1   \n2                                 Heikkinen, Miss. Laina  female  26.0      0   \n3           Futrelle, Mrs. Jacques Heath (Lily May Peel)  female  35.0      1   \n4                               Allen, Mr. William Henry    male  35.0      0   \n..                                                   ...     ...   ...    ...   \n886                                Montvila, Rev. Juozas    male  27.0      0   \n887                         Graham, Miss. Margaret Edith  female  19.0      0   \n888             Johnston, Miss. Catherine Helen \"Carrie\"  female   NaN      1   \n889                                Behr, Mr. Karl Howell    male  26.0      0   \n890                                  Dooley, Mr. Patrick    male  32.0      0   \n\n     Parch            Ticket     Fare Cabin Embarked  \n0        0         A/5 21171   7.2500   NaN        S  \n1        0          PC 17599  71.2833   C85        C  \n2        0  STON/O2. 3101282   7.9250   NaN        S  \n3        0            113803  53.1000  C123        S  \n4        0            373450   8.0500   NaN        S  \n..     ...               ...      ...   ...      ...  \n886      0            211536  13.0000   NaN        S  \n887      0            112053  30.0000   B42        S  \n888      2        W./C. 6607  23.4500   NaN        S  \n889      0            111369  30.0000  C148        C  \n890      0            370376   7.7500   NaN        Q  \n\n[891 rows x 12 columns]",
      "text/html": "<div>\n<style scoped>\n    .dataframe tbody tr th:only-of-type {\n        vertical-align: middle;\n    }\n\n    .dataframe tbody tr th {\n        vertical-align: top;\n    }\n\n    .dataframe thead th {\n        text-align: right;\n    }\n</style>\n<table border=\"1\" class=\"dataframe\">\n  <thead>\n    <tr style=\"text-align: right;\">\n      <th></th>\n      <th>PassengerId</th>\n      <th>Survived</th>\n      <th>Pclass</th>\n      <th>Name</th>\n      <th>Sex</th>\n      <th>Age</th>\n      <th>SibSp</th>\n      <th>Parch</th>\n      <th>Ticket</th>\n      <th>Fare</th>\n      <th>Cabin</th>\n      <th>Embarked</th>\n    </tr>\n  </thead>\n  <tbody>\n    <tr>\n      <th>0</th>\n      <td>1</td>\n      <td>0</td>\n      <td>3</td>\n      <td>Braund, Mr. Owen Harris</td>\n      <td>male</td>\n      <td>22.0</td>\n      <td>1</td>\n      <td>0</td>\n      <td>A/5 21171</td>\n      <td>7.2500</td>\n      <td>NaN</td>\n      <td>S</td>\n    </tr>\n    <tr>\n      <th>1</th>\n      <td>2</td>\n      <td>1</td>\n      <td>1</td>\n      <td>Cumings, Mrs. John Bradley (Florence Briggs Thayer)</td>\n      <td>female</td>\n      <td>38.0</td>\n      <td>1</td>\n      <td>0</td>\n      <td>PC 17599</td>\n      <td>71.2833</td>\n      <td>C85</td>\n      <td>C</td>\n    </tr>\n    <tr>\n      <th>2</th>\n      <td>3</td>\n      <td>1</td>\n      <td>3</td>\n      <td>Heikkinen, Miss. Laina</td>\n      <td>female</td>\n      <td>26.0</td>\n      <td>0</td>\n      <td>0</td>\n      <td>STON/O2. 3101282</td>\n      <td>7.9250</td>\n      <td>NaN</td>\n      <td>S</td>\n    </tr>\n    <tr>\n      <th>3</th>\n      <td>4</td>\n      <td>1</td>\n      <td>1</td>\n      <td>Futrelle, Mrs. Jacques Heath (Lily May Peel)</td>\n      <td>female</td>\n      <td>35.0</td>\n      <td>1</td>\n      <td>0</td>\n      <td>113803</td>\n      <td>53.1000</td>\n      <td>C123</td>\n      <td>S</td>\n    </tr>\n    <tr>\n      <th>4</th>\n      <td>5</td>\n      <td>0</td>\n      <td>3</td>\n      <td>Allen, Mr. William Henry</td>\n      <td>male</td>\n      <td>35.0</td>\n      <td>0</td>\n      <td>0</td>\n      <td>373450</td>\n      <td>8.0500</td>\n      <td>NaN</td>\n      <td>S</td>\n    </tr>\n    <tr>\n      <th>...</th>\n      <td>...</td>\n      <td>...</td>\n      <td>...</td>\n      <td>...</td>\n      <td>...</td>\n      <td>...</td>\n      <td>...</td>\n      <td>...</td>\n      <td>...</td>\n      <td>...</td>\n      <td>...</td>\n      <td>...</td>\n    </tr>\n    <tr>\n      <th>886</th>\n      <td>887</td>\n      <td>0</td>\n      <td>2</td>\n      <td>Montvila, Rev. Juozas</td>\n      <td>male</td>\n      <td>27.0</td>\n      <td>0</td>\n      <td>0</td>\n      <td>211536</td>\n      <td>13.0000</td>\n      <td>NaN</td>\n      <td>S</td>\n    </tr>\n    <tr>\n      <th>887</th>\n      <td>888</td>\n      <td>1</td>\n      <td>1</td>\n      <td>Graham, Miss. Margaret Edith</td>\n      <td>female</td>\n      <td>19.0</td>\n      <td>0</td>\n      <td>0</td>\n      <td>112053</td>\n      <td>30.0000</td>\n      <td>B42</td>\n      <td>S</td>\n    </tr>\n    <tr>\n      <th>888</th>\n      <td>889</td>\n      <td>0</td>\n      <td>3</td>\n      <td>Johnston, Miss. Catherine Helen \"Carrie\"</td>\n      <td>female</td>\n      <td>NaN</td>\n      <td>1</td>\n      <td>2</td>\n      <td>W./C. 6607</td>\n      <td>23.4500</td>\n      <td>NaN</td>\n      <td>S</td>\n    </tr>\n    <tr>\n      <th>889</th>\n      <td>890</td>\n      <td>1</td>\n      <td>1</td>\n      <td>Behr, Mr. Karl Howell</td>\n      <td>male</td>\n      <td>26.0</td>\n      <td>0</td>\n      <td>0</td>\n      <td>111369</td>\n      <td>30.0000</td>\n      <td>C148</td>\n      <td>C</td>\n    </tr>\n    <tr>\n      <th>890</th>\n      <td>891</td>\n      <td>0</td>\n      <td>3</td>\n      <td>Dooley, Mr. Patrick</td>\n      <td>male</td>\n      <td>32.0</td>\n      <td>0</td>\n      <td>0</td>\n      <td>370376</td>\n      <td>7.7500</td>\n      <td>NaN</td>\n      <td>Q</td>\n    </tr>\n  </tbody>\n</table>\n<p>891 rows × 12 columns</p>\n</div>"
     },
     "execution_count": 2,
     "metadata": {},
     "output_type": "execute_result"
    }
   ],
   "source": [
    "df = pd.read_csv('titanic-dataset/train.csv')\n",
    "df"
   ]
  },
  {
   "cell_type": "markdown",
   "metadata": {},
   "source": [
    "We need to put data in *DataLoaders* (dls) class in fastai. To do that, we have wrapper around *DataLoader* for tabular datam which is called *TabularDataLoaders*"
   ]
  },
  {
   "cell_type": "code",
   "execution_count": 3,
   "metadata": {},
   "outputs": [
    {
     "data": {
      "text/plain": "((#713) [788,525,821,253,374,98,215,313,281,305...],\n (#178) [303,778,531,385,134,476,691,443,386,128...])"
     },
     "execution_count": 3,
     "metadata": {},
     "output_type": "execute_result"
    }
   ],
   "source": [
    "splits = RandomSplitter(seed=42)(df)\n",
    "splits"
   ]
  },
  {
   "cell_type": "code",
   "execution_count": 4,
   "metadata": {},
   "outputs": [],
   "source": [
    "\"\"\"\n",
    "y_block = CategoryBlock() - our target value is encoded (survived or not survived), so we need to explicitly pass this value so fastai won't presume we are doing regression\n",
    "\"\"\"\n",
    "tp = TabularPandas(\n",
    "    df,\n",
    "    splits=splits,\n",
    "    procs=[Categorify, FillMissing, Normalize],\n",
    "    cat_names=['Pclass', 'Sex', 'Embarked'],\n",
    "    cont_names=['Age', 'SibSp', 'Parch', 'Fare'],\n",
    "    y_names='Survived',\n",
    "    y_block=CategoryBlock()\n",
    ")"
   ]
  },
  {
   "cell_type": "code",
   "execution_count": 5,
   "metadata": {},
   "outputs": [
    {
     "data": {
      "text/plain": "     PassengerId  Survived  Pclass                                   Name  \\\n788          789         1       3             Dean, Master. Bertram Vere   \n525          526         0       3                     Farrell, Mr. James   \n821          822         1       3                      Lulic, Mr. Nikola   \n253          254         0       3               Lobb, Mr. William Arthur   \n374          375         0       3             Palsson, Miss. Stina Viola   \n..           ...       ...     ...                                    ...   \n770          771         0       3                 Lievens, Mr. Rene Aime   \n414          415         1       3              Sundman, Mr. Johan Julian   \n540          541         1       1                Crosby, Miss. Harriet R   \n298          299         1       1                  Saalfeld, Mr. Adolphe   \n489          490         1       3  Coutts, Master. Eden Leslie \"Neville\"   \n\n     Sex       Age     SibSp     Parch             Ticket      Fare Cabin  \\\n788    2 -2.182087  0.461591  2.034995          C.A. 2315 -0.226999   NaN   \n525    2  0.861920 -0.462887 -0.464491             367232 -0.477002   NaN   \n821    2 -0.178437 -0.462887 -0.464491             315098 -0.459214   NaN   \n253    2  0.052753  0.461591 -0.464491          A/5. 3336 -0.314232   NaN   \n374    1 -2.027960  2.310547  0.785252             349909 -0.217253   NaN   \n..   ...       ...       ...       ...                ...       ...   ...   \n770    2 -0.409628 -0.462887 -0.464491             345781 -0.442889   NaN   \n414    2  1.131642 -0.462887 -0.464491  STON/O 2. 3101269 -0.473591   NaN   \n540    1  0.515134 -0.462887  2.034995          WE/P 5735  0.755954   B22   \n298    2 -0.101374 -0.462887 -0.464491              19988 -0.033528  C106   \n489    2 -1.565580  0.461591  0.785252         C.A. 37671 -0.318131   NaN   \n\n     Embarked  Age_na  \n788         3       1  \n525         2       1  \n821         3       1  \n253         3       1  \n374         3       1  \n..        ...     ...  \n770         3       1  \n414         3       1  \n540         3       1  \n298         3       2  \n489         3       1  \n\n[891 rows x 13 columns]"
     },
     "execution_count": 5,
     "metadata": {},
     "output_type": "execute_result"
    }
   ],
   "source": [
    "tp"
   ]
  },
  {
   "cell_type": "code",
   "execution_count": 6,
   "metadata": {},
   "outputs": [],
   "source": [
    "# Create DataLoaders instead of TabularPandas object\n",
    "dls = tp.dataloaders(bs=64)"
   ]
  },
  {
   "cell_type": "code",
   "execution_count": 7,
   "metadata": {},
   "outputs": [
    {
     "data": {
      "text/plain": "<IPython.core.display.HTML object>",
      "text/html": "<table border=\"1\" class=\"dataframe\">\n  <thead>\n    <tr style=\"text-align: right;\">\n      <th></th>\n      <th>Pclass</th>\n      <th>Sex</th>\n      <th>Embarked</th>\n      <th>Age_na</th>\n      <th>Age</th>\n      <th>SibSp</th>\n      <th>Parch</th>\n      <th>Fare</th>\n      <th>Survived</th>\n    </tr>\n  </thead>\n  <tbody>\n    <tr>\n      <th>0</th>\n      <td>2</td>\n      <td>male</td>\n      <td>S</td>\n      <td>False</td>\n      <td>24.0</td>\n      <td>2.000000e+00</td>\n      <td>-9.897945e-09</td>\n      <td>73.500001</td>\n      <td>0</td>\n    </tr>\n    <tr>\n      <th>1</th>\n      <td>3</td>\n      <td>male</td>\n      <td>S</td>\n      <td>True</td>\n      <td>28.0</td>\n      <td>1.000000e+00</td>\n      <td>-9.897945e-09</td>\n      <td>19.966699</td>\n      <td>0</td>\n    </tr>\n    <tr>\n      <th>2</th>\n      <td>3</td>\n      <td>male</td>\n      <td>S</td>\n      <td>False</td>\n      <td>21.0</td>\n      <td>1.689237e-09</td>\n      <td>-9.897945e-09</td>\n      <td>8.049999</td>\n      <td>0</td>\n    </tr>\n    <tr>\n      <th>3</th>\n      <td>3</td>\n      <td>female</td>\n      <td>S</td>\n      <td>False</td>\n      <td>2.0</td>\n      <td>1.689237e-09</td>\n      <td>1.000000e+00</td>\n      <td>10.462500</td>\n      <td>0</td>\n    </tr>\n    <tr>\n      <th>4</th>\n      <td>3</td>\n      <td>female</td>\n      <td>S</td>\n      <td>False</td>\n      <td>21.0</td>\n      <td>1.000000e+00</td>\n      <td>-9.897945e-09</td>\n      <td>9.825000</td>\n      <td>0</td>\n    </tr>\n    <tr>\n      <th>5</th>\n      <td>2</td>\n      <td>female</td>\n      <td>S</td>\n      <td>False</td>\n      <td>22.0</td>\n      <td>1.000000e+00</td>\n      <td>1.000000e+00</td>\n      <td>29.000000</td>\n      <td>1</td>\n    </tr>\n    <tr>\n      <th>6</th>\n      <td>3</td>\n      <td>male</td>\n      <td>Q</td>\n      <td>False</td>\n      <td>4.0</td>\n      <td>4.000000e+00</td>\n      <td>1.000000e+00</td>\n      <td>29.125000</td>\n      <td>0</td>\n    </tr>\n    <tr>\n      <th>7</th>\n      <td>1</td>\n      <td>female</td>\n      <td>S</td>\n      <td>False</td>\n      <td>23.0</td>\n      <td>3.000000e+00</td>\n      <td>2.000000e+00</td>\n      <td>263.000005</td>\n      <td>1</td>\n    </tr>\n    <tr>\n      <th>8</th>\n      <td>3</td>\n      <td>male</td>\n      <td>S</td>\n      <td>False</td>\n      <td>20.0</td>\n      <td>1.689237e-09</td>\n      <td>-9.897945e-09</td>\n      <td>9.845801</td>\n      <td>0</td>\n    </tr>\n    <tr>\n      <th>9</th>\n      <td>3</td>\n      <td>male</td>\n      <td>C</td>\n      <td>False</td>\n      <td>22.0</td>\n      <td>1.689237e-09</td>\n      <td>-9.897945e-09</td>\n      <td>7.229200</td>\n      <td>0</td>\n    </tr>\n  </tbody>\n</table>"
     },
     "metadata": {},
     "output_type": "display_data"
    }
   ],
   "source": [
    "dls.show_batch()"
   ]
  },
  {
   "cell_type": "markdown",
   "metadata": {},
   "source": [
    "### Model Training"
   ]
  },
  {
   "cell_type": "code",
   "execution_count": 8,
   "metadata": {},
   "outputs": [],
   "source": [
    "# Create a learner  using dls with specific metric\n",
    "learner = tabular_learner(dls, metrics=accuracy, layers=[10,10])"
   ]
  },
  {
   "cell_type": "code",
   "execution_count": 9,
   "metadata": {},
   "outputs": [
    {
     "data": {
      "text/plain": "<IPython.core.display.HTML object>",
      "text/html": "\n<style>\n    /* Turns off some styling */\n    progress {\n        /* gets rid of default border in Firefox and Opera. */\n        border: none;\n        /* Needs to be in here for Safari polyfill so background images work as expected. */\n        background-size: auto;\n    }\n    progress:not([value]), progress:not([value])::-webkit-progress-bar {\n        background: repeating-linear-gradient(45deg, #7e7e7e, #7e7e7e 10px, #5c5c5c 10px, #5c5c5c 20px);\n    }\n    .progress-bar-interrupted, .progress-bar-interrupted::-webkit-progress-bar {\n        background: #F44336;\n    }\n</style>\n"
     },
     "metadata": {},
     "output_type": "display_data"
    },
    {
     "data": {
      "text/plain": "<IPython.core.display.HTML object>",
      "text/html": "\n    <div>\n      <progress value='0' class='' max='10' style='width:300px; height:20px; vertical-align: middle;'></progress>\n      \n    </div>\n    \n"
     },
     "metadata": {},
     "output_type": "display_data"
    },
    {
     "data": {
      "text/plain": "SuggestedLRs(slide=0.12022644281387329, valley=0.02290867641568184)"
     },
     "execution_count": 9,
     "metadata": {},
     "output_type": "execute_result"
    },
    {
     "data": {
      "text/plain": "<Figure size 640x480 with 1 Axes>",
      "image/png": "[encoded data removed]"
     },
     "metadata": {},
     "output_type": "display_data"
    }
   ],
   "source": [
    "learner.lr_find(suggest_funcs=(slide, valley))"
   ]
  },
  {
   "cell_type": "code",
   "execution_count": 10,
   "metadata": {},
   "outputs": [
    {
     "data": {
      "text/plain": "<IPython.core.display.HTML object>",
      "text/html": "\n<style>\n    /* Turns off some styling */\n    progress {\n        /* gets rid of default border in Firefox and Opera. */\n        border: none;\n        /* Needs to be in here for Safari polyfill so background images work as expected. */\n        background-size: auto;\n    }\n    progress:not([value]), progress:not([value])::-webkit-progress-bar {\n        background: repeating-linear-gradient(45deg, #7e7e7e, #7e7e7e 10px, #5c5c5c 10px, #5c5c5c 20px);\n    }\n    .progress-bar-interrupted, .progress-bar-interrupted::-webkit-progress-bar {\n        background: #F44336;\n    }\n</style>\n"
     },
     "metadata": {},
     "output_type": "display_data"
    },
    {
     "data": {
      "text/plain": "<IPython.core.display.HTML object>",
      "text/html": "\n    <div>\n      <progress value='0' class='' max='16' style='width:300px; height:20px; vertical-align: middle;'></progress>\n      \n    </div>\n    \n"
     },
     "metadata": {},
     "output_type": "display_data"
    }
   ],
   "source": [
    "learner.fit(16, lr=0.03)"
   ]
  },
  {
   "cell_type": "code",
   "execution_count": 12,
   "metadata": {},
   "outputs": [],
   "source": [
    "# We can save model as .pkl file\n",
    "learner.export(fname='exportLearner.pkl')"
   ]
  },
  {
   "cell_type": "markdown",
   "source": [
    "### Submit"
   ],
   "metadata": {
    "collapsed": false
   }
  },
  {
   "cell_type": "code",
   "execution_count": 15,
   "outputs": [
    {
     "data": {
      "text/plain": "     PassengerId  Pclass                                          Name  \\\n0            892       3                              Kelly, Mr. James   \n1            893       3              Wilkes, Mrs. James (Ellen Needs)   \n2            894       2                     Myles, Mr. Thomas Francis   \n3            895       3                              Wirz, Mr. Albert   \n4            896       3  Hirvonen, Mrs. Alexander (Helga E Lindqvist)   \n..           ...     ...                                           ...   \n413         1305       3                            Spector, Mr. Woolf   \n414         1306       1                  Oliva y Ocana, Dona. Fermina   \n415         1307       3                  Saether, Mr. Simon Sivertsen   \n416         1308       3                           Ware, Mr. Frederick   \n417         1309       3                      Peter, Master. Michael J   \n\n        Sex   Age  SibSp  Parch              Ticket      Fare Cabin Embarked  \n0      male  34.5      0      0              330911    7.8292   NaN        Q  \n1    female  47.0      1      0              363272    7.0000   NaN        S  \n2      male  62.0      0      0              240276    9.6875   NaN        Q  \n3      male  27.0      0      0              315154    8.6625   NaN        S  \n4    female  22.0      1      1             3101298   12.2875   NaN        S  \n..      ...   ...    ...    ...                 ...       ...   ...      ...  \n413    male   NaN      0      0           A.5. 3236    8.0500   NaN        S  \n414  female  39.0      0      0            PC 17758  108.9000  C105        C  \n415    male  38.5      0      0  SOTON/O.Q. 3101262    7.2500   NaN        S  \n416    male   NaN      0      0              359309    8.0500   NaN        S  \n417    male   NaN      1      1                2668   22.3583   NaN        C  \n\n[418 rows x 11 columns]",
      "text/html": "<div>\n<style scoped>\n    .dataframe tbody tr th:only-of-type {\n        vertical-align: middle;\n    }\n\n    .dataframe tbody tr th {\n        vertical-align: top;\n    }\n\n    .dataframe thead th {\n        text-align: right;\n    }\n</style>\n<table border=\"1\" class=\"dataframe\">\n  <thead>\n    <tr style=\"text-align: right;\">\n      <th></th>\n      <th>PassengerId</th>\n      <th>Pclass</th>\n      <th>Name</th>\n      <th>Sex</th>\n      <th>Age</th>\n      <th>SibSp</th>\n      <th>Parch</th>\n      <th>Ticket</th>\n      <th>Fare</th>\n      <th>Cabin</th>\n      <th>Embarked</th>\n    </tr>\n  </thead>\n  <tbody>\n    <tr>\n      <th>0</th>\n      <td>892</td>\n      <td>3</td>\n      <td>Kelly, Mr. James</td>\n      <td>male</td>\n      <td>34.5</td>\n      <td>0</td>\n      <td>0</td>\n      <td>330911</td>\n      <td>7.8292</td>\n      <td>NaN</td>\n      <td>Q</td>\n    </tr>\n    <tr>\n      <th>1</th>\n      <td>893</td>\n      <td>3</td>\n      <td>Wilkes, Mrs. James (Ellen Needs)</td>\n      <td>female</td>\n      <td>47.0</td>\n      <td>1</td>\n      <td>0</td>\n      <td>363272</td>\n      <td>7.0000</td>\n      <td>NaN</td>\n      <td>S</td>\n    </tr>\n    <tr>\n      <th>2</th>\n      <td>894</td>\n      <td>2</td>\n      <td>Myles, Mr. Thomas Francis</td>\n      <td>male</td>\n      <td>62.0</td>\n      <td>0</td>\n      <td>0</td>\n      <td>240276</td>\n      <td>9.6875</td>\n      <td>NaN</td>\n      <td>Q</td>\n    </tr>\n    <tr>\n      <th>3</th>\n      <td>895</td>\n      <td>3</td>\n      <td>Wirz, Mr. Albert</td>\n      <td>male</td>\n      <td>27.0</td>\n      <td>0</td>\n      <td>0</td>\n      <td>315154</td>\n      <td>8.6625</td>\n      <td>NaN</td>\n      <td>S</td>\n    </tr>\n    <tr>\n      <th>4</th>\n      <td>896</td>\n      <td>3</td>\n      <td>Hirvonen, Mrs. Alexander (Helga E Lindqvist)</td>\n      <td>female</td>\n      <td>22.0</td>\n      <td>1</td>\n      <td>1</td>\n      <td>3101298</td>\n      <td>12.2875</td>\n      <td>NaN</td>\n      <td>S</td>\n    </tr>\n    <tr>\n      <th>...</th>\n      <td>...</td>\n      <td>...</td>\n      <td>...</td>\n      <td>...</td>\n      <td>...</td>\n      <td>...</td>\n      <td>...</td>\n      <td>...</td>\n      <td>...</td>\n      <td>...</td>\n      <td>...</td>\n    </tr>\n    <tr>\n      <th>413</th>\n      <td>1305</td>\n      <td>3</td>\n      <td>Spector, Mr. Woolf</td>\n      <td>male</td>\n      <td>NaN</td>\n      <td>0</td>\n      <td>0</td>\n      <td>A.5. 3236</td>\n      <td>8.0500</td>\n      <td>NaN</td>\n      <td>S</td>\n    </tr>\n    <tr>\n      <th>414</th>\n      <td>1306</td>\n      <td>1</td>\n      <td>Oliva y Ocana, Dona. Fermina</td>\n      <td>female</td>\n      <td>39.0</td>\n      <td>0</td>\n      <td>0</td>\n      <td>PC 17758</td>\n      <td>108.9000</td>\n      <td>C105</td>\n      <td>C</td>\n    </tr>\n    <tr>\n      <th>415</th>\n      <td>1307</td>\n      <td>3</td>\n      <td>Saether, Mr. Simon Sivertsen</td>\n      <td>male</td>\n      <td>38.5</td>\n      <td>0</td>\n      <td>0</td>\n      <td>SOTON/O.Q. 3101262</td>\n      <td>7.2500</td>\n      <td>NaN</td>\n      <td>S</td>\n    </tr>\n    <tr>\n      <th>416</th>\n      <td>1308</td>\n      <td>3</td>\n      <td>Ware, Mr. Frederick</td>\n      <td>male</td>\n      <td>NaN</td>\n      <td>0</td>\n      <td>0</td>\n      <td>359309</td>\n      <td>8.0500</td>\n      <td>NaN</td>\n      <td>S</td>\n    </tr>\n    <tr>\n      <th>417</th>\n      <td>1309</td>\n      <td>3</td>\n      <td>Peter, Master. Michael J</td>\n      <td>male</td>\n      <td>NaN</td>\n      <td>1</td>\n      <td>1</td>\n      <td>2668</td>\n      <td>22.3583</td>\n      <td>NaN</td>\n      <td>C</td>\n    </tr>\n  </tbody>\n</table>\n<p>418 rows × 11 columns</p>\n</div>"
     },
     "execution_count": 15,
     "metadata": {},
     "output_type": "execute_result"
    }
   ],
   "source": [
    "test_df = pd.read_csv('titanic-dataset/test.csv')\n",
    "test_df"
   ],
   "metadata": {
    "collapsed": false
   }
  },
  {
   "cell_type": "code",
   "execution_count": 22,
   "outputs": [
    {
     "data": {
      "text/plain": "0"
     },
     "execution_count": 22,
     "metadata": {},
     "output_type": "execute_result"
    }
   ],
   "source": [
    "# There are NaN value in 'Fare' but not in setup training set\n",
    "test_df['Fare'] = test_df.Fare.fillna(0)\n",
    "test_df.Fare.isna().sum()"
   ],
   "metadata": {
    "collapsed": false
   }
  },
  {
   "cell_type": "code",
   "execution_count": 18,
   "outputs": [
    {
     "data": {
      "text/plain": "<bound method TabularDataLoaders.test_dl of <fastai.tabular.data.TabularDataLoaders object at 0x7f740440be20>>"
     },
     "execution_count": 18,
     "metadata": {},
     "output_type": "execute_result"
    }
   ],
   "source": [
    "learner.dls.test_dl"
   ],
   "metadata": {
    "collapsed": false
   }
  },
  {
   "cell_type": "code",
   "execution_count": 23,
   "outputs": [],
   "source": [
    "# test_dl method apply all processing steps on test set. No need to manually change anything\n",
    "test_dls = learner.dls.test_dl(test_df)"
   ],
   "metadata": {
    "collapsed": false
   }
  },
  {
   "cell_type": "code",
   "execution_count": 30,
   "outputs": [
    {
     "data": {
      "text/plain": "{'after_item': Pipeline: ,\n 'before_batch': Pipeline: ,\n 'after_batch': Pipeline: ReadTabBatch,\n '__stored_args__': {'dataset':      PassengerId  Pclass                                          Name  Sex  \\\n  0            892       3                              Kelly, Mr. James    2   \n  1            893       3              Wilkes, Mrs. James (Ellen Needs)    1   \n  2            894       2                     Myles, Mr. Thomas Francis    2   \n  3            895       3                              Wirz, Mr. Albert    2   \n  4            896       3  Hirvonen, Mrs. Alexander (Helga E Lindqvist)    1   \n  ..           ...     ...                                           ...  ...   \n  413         1305       3                            Spector, Mr. Woolf    2   \n  414         1306       1                  Oliva y Ocana, Dona. Fermina    1   \n  415         1307       3                  Saether, Mr. Simon Sivertsen    2   \n  416         1308       3                           Ware, Mr. Frederick    2   \n  417         1309       3                      Peter, Master. Michael J    2   \n  \n            Age     SibSp     Parch              Ticket      Fare Cabin  \\\n  0    0.399539 -0.462887 -0.464491              330911 -0.475458   NaN   \n  1    1.362832  0.461591 -0.464491              363272 -0.491622   NaN   \n  2    2.518784 -0.462887 -0.464491              240276 -0.439234   NaN   \n  3   -0.178437 -0.462887 -0.464491              315154 -0.459214   NaN   \n  4   -0.563754  0.461591  0.785252             3101298 -0.388551   NaN   \n  ..        ...       ...       ...                 ...       ...   ...   \n  413 -0.101374 -0.462887 -0.464491           A.5. 3236 -0.471154   NaN   \n  414  0.746325 -0.462887 -0.464491            PC 17758  1.494752  C105   \n  415  0.707793 -0.462887 -0.464491  SOTON/O.Q. 3101262 -0.486749   NaN   \n  416 -0.101374 -0.462887 -0.464491              359309 -0.471154   NaN   \n  417 -0.101374  0.461591  0.785252                2668 -0.192237   NaN   \n  \n       Embarked  Age_na  \n  0           2       1  \n  1           3       1  \n  2           2       1  \n  3           3       1  \n  4           3       1  \n  ..        ...     ...  \n  413         3       2  \n  414         1       1  \n  415         3       1  \n  416         3       2  \n  417         1       2  \n  \n  [418 rows x 12 columns],\n  'bs': 64,\n  'shuffle': False,\n  'drop_last': False,\n  'indexed': True,\n  'n': 418,\n  'pin_memory': False,\n  'timeout': 0,\n  'device': device(type='cpu')},\n 'dataset':      PassengerId  Pclass                                          Name  Sex  \\\n 0            892       3                              Kelly, Mr. James    2   \n 1            893       3              Wilkes, Mrs. James (Ellen Needs)    1   \n 2            894       2                     Myles, Mr. Thomas Francis    2   \n 3            895       3                              Wirz, Mr. Albert    2   \n 4            896       3  Hirvonen, Mrs. Alexander (Helga E Lindqvist)    1   \n ..           ...     ...                                           ...  ...   \n 413         1305       3                            Spector, Mr. Woolf    2   \n 414         1306       1                  Oliva y Ocana, Dona. Fermina    1   \n 415         1307       3                  Saether, Mr. Simon Sivertsen    2   \n 416         1308       3                           Ware, Mr. Frederick    2   \n 417         1309       3                      Peter, Master. Michael J    2   \n \n           Age     SibSp     Parch              Ticket      Fare Cabin  \\\n 0    0.399539 -0.462887 -0.464491              330911 -0.475458   NaN   \n 1    1.362832  0.461591 -0.464491              363272 -0.491622   NaN   \n 2    2.518784 -0.462887 -0.464491              240276 -0.439234   NaN   \n 3   -0.178437 -0.462887 -0.464491              315154 -0.459214   NaN   \n 4   -0.563754  0.461591  0.785252             3101298 -0.388551   NaN   \n ..        ...       ...       ...                 ...       ...   ...   \n 413 -0.101374 -0.462887 -0.464491           A.5. 3236 -0.471154   NaN   \n 414  0.746325 -0.462887 -0.464491            PC 17758  1.494752  C105   \n 415  0.707793 -0.462887 -0.464491  SOTON/O.Q. 3101262 -0.486749   NaN   \n 416 -0.101374 -0.462887 -0.464491              359309 -0.471154   NaN   \n 417 -0.101374  0.461591  0.785252                2668 -0.192237   NaN   \n \n      Embarked  Age_na  \n 0           2       1  \n 1           3       1  \n 2           2       1  \n 3           3       1  \n 4           3       1  \n ..        ...     ...  \n 413         3       2  \n 414         1       1  \n 415         3       1  \n 416         3       2  \n 417         1       2  \n \n [418 rows x 12 columns],\n 'bs': 64,\n 'shuffle': False,\n 'drop_last': False,\n 'indexed': True,\n 'n': 418,\n 'pin_memory': False,\n 'timeout': 0,\n 'device': device(type='cpu'),\n 'rng': <random.Random at 0x8a20ad0>,\n 'num_workers': 1,\n 'offs': 0,\n 'fake_l': <fastai.data.load._FakeLoader at 0x7f7323c00700>,\n '_n_inp': 2,\n '_types': {tuple: [torch.Tensor, torch.Tensor, torch.Tensor]}}"
     },
     "execution_count": 30,
     "metadata": {},
     "output_type": "execute_result"
    }
   ],
   "source": [
    "test_dls.__dict__"
   ],
   "metadata": {
    "collapsed": false
   }
  },
  {
   "cell_type": "code",
   "execution_count": 31,
   "outputs": [
    {
     "data": {
      "text/plain": "<IPython.core.display.HTML object>",
      "text/html": "\n<style>\n    /* Turns off some styling */\n    progress {\n        /* gets rid of default border in Firefox and Opera. */\n        border: none;\n        /* Needs to be in here for Safari polyfill so background images work as expected. */\n        background-size: auto;\n    }\n    progress:not([value]), progress:not([value])::-webkit-progress-bar {\n        background: repeating-linear-gradient(45deg, #7e7e7e, #7e7e7e 10px, #5c5c5c 10px, #5c5c5c 20px);\n    }\n    .progress-bar-interrupted, .progress-bar-interrupted::-webkit-progress-bar {\n        background: #F44336;\n    }\n</style>\n"
     },
     "metadata": {},
     "output_type": "display_data"
    },
    {
     "data": {
      "text/plain": "<IPython.core.display.HTML object>",
      "text/html": "\n    <div>\n      <progress value='0' class='' max='7' style='width:300px; height:20px; vertical-align: middle;'></progress>\n      \n    </div>\n    "
     },
     "metadata": {},
     "output_type": "display_data"
    }
   ],
   "source": [
    "# get predictions\n",
    "preds,_ = learner.get_preds(dl=test_dls)"
   ],
   "metadata": {
    "collapsed": false
   }
  },
  {
   "cell_type": "code",
   "execution_count": 32,
   "outputs": [
    {
     "data": {
      "text/plain": "tensor([[9.2739e-01, 7.2612e-02],\n        [5.8990e-01, 4.1010e-01],\n        [9.8934e-01, 1.0656e-02],\n        [8.5290e-01, 1.4710e-01],\n        [6.8664e-01, 3.1336e-01],\n        [8.1465e-01, 1.8535e-01],\n        [4.0119e-01, 5.9881e-01],\n        [9.6161e-01, 3.8388e-02],\n        [1.6690e-01, 8.3310e-01],\n        [9.1738e-01, 8.2621e-02],\n        [9.3074e-01, 6.9257e-02],\n        [7.4222e-01, 2.5778e-01],\n        [1.7995e-02, 9.8201e-01],\n        [9.7714e-01, 2.2859e-02],\n        [1.7317e-02, 9.8268e-01],\n        [1.8970e-02, 9.8103e-01],\n        [9.4966e-01, 5.0338e-02],\n        [4.1038e-01, 5.8962e-01],\n        [5.5886e-01, 4.4114e-01],\n        [5.4425e-01, 4.5575e-01],\n        [8.3693e-01, 1.6307e-01],\n        [3.2169e-01, 6.7831e-01],\n        [3.2533e-02, 9.6747e-01],\n        [1.5473e-01, 8.4527e-01],\n        [2.2319e-01, 7.7681e-01],\n        [9.8181e-01, 1.8195e-02],\n        [1.5275e-02, 9.8472e-01],\n        [4.4431e-01, 5.5569e-01],\n        [6.4486e-01, 3.5514e-01],\n        [9.5772e-01, 4.2282e-02],\n        [9.3935e-01, 6.0653e-02],\n        [9.4119e-01, 5.8811e-02],\n        [7.5257e-01, 2.4743e-01],\n        [7.8249e-01, 2.1751e-01],\n        [7.2198e-01, 2.7802e-01],\n        [3.5582e-01, 6.4418e-01],\n        [5.4182e-01, 4.5818e-01],\n        [3.8325e-01, 6.1675e-01],\n        [8.6548e-01, 1.3452e-01],\n        [7.8596e-01, 2.1404e-01],\n        [9.4591e-01, 5.4089e-02],\n        [8.3319e-01, 1.6681e-01],\n        [9.4123e-01, 5.8771e-02],\n        [9.1812e-02, 9.0819e-01],\n        [1.9833e-02, 9.8017e-01],\n        [8.7021e-01, 1.2979e-01],\n        [6.4830e-01, 3.5170e-01],\n        [9.3422e-01, 6.5780e-02],\n        [4.7193e-02, 9.5281e-01],\n        [6.5749e-01, 3.4251e-01],\n        [6.0663e-01, 3.9337e-01],\n        [7.3246e-01, 2.6754e-01],\n        [6.2785e-02, 9.3722e-01],\n        [2.5223e-02, 9.7478e-01],\n        [4.3355e-01, 5.6645e-01],\n        [9.3977e-01, 6.0232e-02],\n        [8.9899e-01, 1.0101e-01],\n        [8.7103e-01, 1.2897e-01],\n        [9.5500e-01, 4.5004e-02],\n        [6.7655e-03, 9.9323e-01],\n        [8.7291e-01, 1.2709e-01],\n        [9.7248e-01, 2.7524e-02],\n        [8.8831e-01, 1.1169e-01],\n        [3.8835e-01, 6.1165e-01],\n        [6.7011e-01, 3.2989e-01],\n        [2.5248e-02, 9.7475e-01],\n        [3.2886e-01, 6.7114e-01],\n        [7.1271e-01, 2.8729e-01],\n        [4.4474e-01, 5.5526e-01],\n        [2.4672e-01, 7.5328e-01],\n        [3.9912e-01, 6.0088e-01],\n        [8.9358e-01, 1.0642e-01],\n        [4.9741e-01, 5.0259e-01],\n        [4.1128e-01, 5.8872e-01],\n        [1.2190e-02, 9.8781e-01],\n        [6.4098e-01, 3.5902e-01],\n        [9.3051e-01, 6.9491e-02],\n        [1.6138e-02, 9.8386e-01],\n        [9.7230e-01, 2.7697e-02],\n        [3.9912e-01, 6.0088e-01],\n        [1.1426e-01, 8.8574e-01],\n        [4.9770e-01, 5.0230e-01],\n        [7.7287e-01, 2.2713e-01],\n        [9.3074e-01, 6.9257e-02],\n        [8.1790e-01, 1.8210e-01],\n        [9.2096e-01, 7.9041e-02],\n        [3.9107e-01, 6.0893e-01],\n        [3.3389e-01, 6.6611e-01],\n        [1.6495e-01, 8.3505e-01],\n        [2.0522e-01, 7.9478e-01],\n        [5.1446e-01, 4.8554e-01],\n        [9.3093e-01, 6.9074e-02],\n        [1.7975e-01, 8.2025e-01],\n        [9.3051e-01, 6.9491e-02],\n        [3.5947e-01, 6.4053e-01],\n        [8.7060e-01, 1.2940e-01],\n        [1.2504e-02, 9.8750e-01],\n        [8.4400e-01, 1.5600e-01],\n        [3.6701e-01, 6.3299e-01],\n        [8.7930e-01, 1.2070e-01],\n        [3.4251e-02, 9.6575e-01],\n        [9.4383e-01, 5.6167e-02],\n        [9.3422e-01, 6.5780e-02],\n        [8.6346e-01, 1.3654e-01],\n        [2.9940e-01, 7.0060e-01],\n        [7.8718e-01, 2.1282e-01],\n        [8.3369e-01, 1.6631e-01],\n        [9.3422e-01, 6.5780e-02],\n        [9.2949e-01, 7.0506e-02],\n        [9.3451e-01, 6.5493e-02],\n        [9.3056e-01, 6.9439e-02],\n        [1.6487e-01, 8.3513e-01],\n        [2.4962e-02, 9.7504e-01],\n        [3.3619e-01, 6.6381e-01],\n        [1.3943e-03, 9.9861e-01],\n        [5.0375e-01, 4.9625e-01],\n        [8.4339e-01, 1.5661e-01],\n        [3.4361e-01, 6.5639e-01],\n        [6.3146e-01, 3.6854e-01],\n        [6.8363e-02, 9.3164e-01],\n        [2.6944e-02, 9.7306e-01],\n        [9.6971e-01, 3.0293e-02],\n        [3.7433e-02, 9.6257e-01],\n        [8.4982e-01, 1.5018e-01],\n        [9.3422e-01, 6.5780e-02],\n        [2.7757e-01, 7.2243e-01],\n        [8.8853e-01, 1.1147e-01],\n        [3.7290e-02, 9.6271e-01],\n        [9.5835e-01, 4.1650e-02],\n        [8.7633e-01, 1.2367e-01],\n        [8.6844e-01, 1.3156e-01],\n        [8.2148e-01, 1.7852e-01],\n        [8.1828e-01, 1.8172e-01],\n        [9.2541e-01, 7.4586e-02],\n        [9.5088e-01, 4.9121e-02],\n        [8.7689e-01, 1.2311e-01],\n        [5.8203e-01, 4.1797e-01],\n        [9.6941e-01, 3.0590e-02],\n        [4.1858e-01, 5.8142e-01],\n        [9.9923e-01, 7.7162e-04],\n        [8.4523e-01, 1.5477e-01],\n        [1.3713e-02, 9.8629e-01],\n        [9.7632e-01, 2.3677e-02],\n        [9.6686e-01, 3.3136e-02],\n        [6.7991e-01, 3.2009e-01],\n        [9.7461e-01, 2.5394e-02],\n        [7.9189e-01, 2.0811e-01],\n        [8.8785e-01, 1.1215e-01],\n        [8.3319e-01, 1.6681e-01],\n        [9.5762e-01, 4.2383e-02],\n        [1.7025e-02, 9.8298e-01],\n        [8.4533e-01, 1.5467e-01],\n        [9.9102e-01, 8.9829e-03],\n        [6.5624e-01, 3.4376e-01],\n        [9.5571e-01, 4.4294e-02],\n        [8.7777e-01, 1.2223e-01],\n        [1.2035e-02, 9.8796e-01],\n        [4.1876e-01, 5.8124e-01],\n        [6.7991e-01, 3.2009e-01],\n        [3.3908e-01, 6.6092e-01],\n        [1.6499e-01, 8.3501e-01],\n        [1.2738e-01, 8.7262e-01],\n        [7.0571e-02, 9.2943e-01],\n        [9.3209e-01, 6.7910e-02],\n        [9.6006e-01, 3.9935e-02],\n        [6.5152e-01, 3.4848e-01],\n        [6.9154e-01, 3.0846e-01],\n        [9.5973e-01, 4.0267e-02],\n        [6.6889e-03, 9.9331e-01],\n        [4.0022e-01, 5.9978e-01],\n        [9.3127e-01, 6.8734e-02],\n        [6.0199e-01, 3.9801e-01],\n        [8.7220e-01, 1.2780e-01],\n        [8.4445e-01, 1.5555e-01],\n        [9.9931e-01, 6.8601e-04],\n        [2.3565e-02, 9.7643e-01],\n        [3.4927e-02, 9.6507e-01],\n        [8.2683e-01, 1.7317e-01],\n        [7.0357e-02, 9.2964e-01],\n        [1.7446e-01, 8.2554e-01],\n        [9.7230e-01, 2.7697e-02],\n        [7.7803e-01, 2.2197e-01],\n        [2.9022e-02, 9.7098e-01],\n        [9.3422e-01, 6.5780e-02],\n        [5.0322e-02, 9.4968e-01],\n        [9.5987e-01, 4.0134e-02],\n        [3.0350e-02, 9.6965e-01],\n        [9.1479e-01, 8.5208e-02],\n        [9.4978e-01, 5.0215e-02],\n        [9.6171e-01, 3.8289e-02],\n        [9.2293e-01, 7.7075e-02],\n        [8.3480e-01, 1.6520e-01],\n        [6.6419e-01, 3.3581e-01],\n        [9.8756e-01, 1.2444e-02],\n        [9.3551e-02, 9.0645e-01],\n        [8.7972e-01, 1.2028e-01],\n        [1.8254e-02, 9.8175e-01],\n        [3.3413e-01, 6.6587e-01],\n        [9.5935e-01, 4.0651e-02],\n        [5.4135e-01, 4.5865e-01],\n        [1.4450e-01, 8.5550e-01],\n        [7.0833e-02, 9.2917e-01],\n        [3.8468e-01, 6.1532e-01],\n        [3.4239e-02, 9.6576e-01],\n        [9.6699e-01, 3.3014e-02],\n        [6.5509e-01, 3.4491e-01],\n        [4.2925e-01, 5.7075e-01],\n        [9.6336e-01, 3.6642e-02],\n        [1.9800e-02, 9.8020e-01],\n        [8.7030e-01, 1.2970e-01],\n        [8.2102e-01, 1.7898e-01],\n        [9.3202e-01, 6.7985e-02],\n        [7.3332e-01, 2.6668e-01],\n        [5.9599e-02, 9.4040e-01],\n        [8.9807e-01, 1.0193e-01],\n        [6.3702e-01, 3.6298e-01],\n        [1.6459e-01, 8.3541e-01],\n        [8.4689e-01, 1.5311e-01],\n        [3.7752e-03, 9.9622e-01],\n        [9.3051e-01, 6.9491e-02],\n        [3.4102e-02, 9.6590e-01],\n        [8.9321e-01, 1.0679e-01],\n        [5.6482e-02, 9.4352e-01],\n        [8.9373e-01, 1.0627e-01],\n        [1.1117e-01, 8.8883e-01],\n        [5.6633e-01, 4.3367e-01],\n        [8.8293e-01, 1.1707e-01],\n        [1.6495e-01, 8.3505e-01],\n        [9.2978e-01, 7.0220e-02],\n        [9.6767e-01, 3.2332e-02],\n        [7.0237e-01, 2.9763e-01],\n        [3.5498e-02, 9.6450e-01],\n        [8.8135e-01, 1.1865e-01],\n        [9.3400e-01, 6.6000e-02],\n        [5.9119e-01, 4.0881e-01],\n        [8.9786e-01, 1.0214e-01],\n        [9.2000e-01, 8.0002e-02],\n        [3.8820e-01, 6.1180e-01],\n        [5.7263e-02, 9.4274e-01],\n        [1.0751e-02, 9.8925e-01],\n        [1.0878e-01, 8.9122e-01],\n        [1.2565e-01, 8.7435e-01],\n        [7.6757e-01, 2.3243e-01],\n        [9.3076e-01, 6.9244e-02],\n        [9.6417e-01, 3.5826e-02],\n        [5.9076e-01, 4.0923e-01],\n        [4.9213e-02, 9.5079e-01],\n        [9.6557e-01, 3.4426e-02],\n        [6.8363e-02, 9.3164e-01],\n        [6.0383e-01, 3.9617e-01],\n        [3.3637e-02, 9.6636e-01],\n        [8.9781e-01, 1.0219e-01],\n        [7.0599e-01, 2.9401e-01],\n        [8.7259e-01, 1.2741e-01],\n        [8.7072e-01, 1.2928e-01],\n        [9.3127e-01, 6.8734e-02],\n        [9.3422e-01, 6.5780e-02],\n        [8.4670e-01, 1.5330e-01],\n        [4.4796e-02, 9.5520e-01],\n        [8.9377e-01, 1.0623e-01],\n        [9.3567e-01, 6.4334e-02],\n        [8.9364e-01, 1.0636e-01],\n        [3.8564e-02, 9.6144e-01],\n        [3.5122e-01, 6.4878e-01],\n        [8.1126e-01, 1.8874e-01],\n        [9.3074e-01, 6.9257e-02],\n        [8.4699e-01, 1.5301e-01],\n        [9.3127e-01, 6.8734e-02],\n        [5.4182e-01, 4.5818e-01],\n        [8.7229e-01, 1.2771e-01],\n        [6.0748e-01, 3.9252e-01],\n        [9.3422e-01, 6.5780e-02],\n        [1.7545e-02, 9.8245e-01],\n        [6.2845e-02, 9.3716e-01],\n        [8.4444e-01, 1.5556e-01],\n        [7.9450e-02, 9.2055e-01],\n        [9.7239e-01, 2.7612e-02],\n        [9.2718e-01, 7.2821e-02],\n        [9.4057e-01, 5.9426e-02],\n        [9.5492e-01, 4.5078e-02],\n        [4.1800e-01, 5.8200e-01],\n        [2.1902e-01, 7.8098e-01],\n        [1.6495e-01, 8.3505e-01],\n        [2.1698e-01, 7.8302e-01],\n        [3.4777e-01, 6.5223e-01],\n        [9.0868e-01, 9.1319e-02],\n        [9.3172e-01, 6.8284e-02],\n        [6.1747e-01, 3.8253e-01],\n        [8.4445e-01, 1.5555e-01],\n        [9.3051e-01, 6.9491e-02],\n        [8.0555e-01, 1.9445e-01],\n        [4.0279e-01, 5.9721e-01],\n        [8.4445e-01, 1.5555e-01],\n        [9.3220e-01, 6.7804e-02],\n        [9.0485e-01, 9.5145e-02],\n        [8.6309e-01, 1.3691e-01],\n        [1.8945e-02, 9.8105e-01],\n        [9.5772e-01, 4.2282e-02],\n        [5.3917e-01, 4.6083e-01],\n        [8.4425e-01, 1.5575e-01],\n        [8.6907e-01, 1.3093e-01],\n        [4.3531e-01, 5.6469e-01],\n        [9.7094e-01, 2.9059e-02],\n        [8.7454e-01, 1.2546e-01],\n        [1.6495e-01, 8.3505e-01],\n        [6.5594e-02, 9.3441e-01],\n        [7.5647e-01, 2.4353e-01],\n        [1.4521e-01, 8.5479e-01],\n        [9.3863e-01, 6.1373e-02],\n        [5.6919e-01, 4.3081e-01],\n        [8.8765e-01, 1.1235e-01],\n        [4.3292e-01, 5.6708e-01],\n        [9.3123e-01, 6.8772e-02],\n        [4.2840e-01, 5.7160e-01],\n        [1.7244e-02, 9.8276e-01],\n        [3.1477e-01, 6.8523e-01],\n        [6.0053e-01, 3.9947e-01],\n        [9.3873e-01, 6.1271e-02],\n        [8.5567e-01, 1.4433e-01],\n        [9.3587e-01, 6.4132e-02],\n        [8.6346e-01, 1.3654e-01],\n        [5.2077e-01, 4.7923e-01],\n        [9.6941e-01, 3.0590e-02],\n        [5.3080e-01, 4.6920e-01],\n        [7.0139e-03, 9.9299e-01],\n        [8.8479e-01, 1.1521e-01],\n        [7.3644e-02, 9.2636e-01],\n        [6.0632e-01, 3.9368e-01],\n        [9.3892e-01, 6.1080e-02],\n        [9.4922e-01, 5.0783e-02],\n        [1.7458e-01, 8.2542e-01],\n        [5.2575e-01, 4.7425e-01],\n        [8.4444e-01, 1.5556e-01],\n        [3.4322e-01, 6.5678e-01],\n        [8.5554e-01, 1.4446e-01],\n        [5.2351e-01, 4.7649e-01],\n        [9.7270e-01, 2.7297e-02],\n        [9.6455e-01, 3.5449e-02],\n        [9.5795e-01, 4.2054e-02],\n        [8.4445e-01, 1.5555e-01],\n        [9.3221e-01, 6.7786e-02],\n        [8.6952e-01, 1.3048e-01],\n        [9.3532e-01, 6.4681e-02],\n        [9.7873e-04, 9.9902e-01],\n        [9.7693e-01, 2.3068e-02],\n        [3.0282e-01, 6.9718e-01],\n        [9.6941e-01, 3.0590e-02],\n        [3.4911e-01, 6.5089e-01],\n        [9.6263e-01, 3.7375e-02],\n        [8.8451e-02, 9.1155e-01],\n        [8.0314e-02, 9.1969e-01],\n        [9.6699e-01, 3.3014e-02],\n        [7.5009e-01, 2.4991e-01],\n        [9.9087e-01, 9.1338e-03],\n        [2.1776e-01, 7.8224e-01],\n        [7.8249e-01, 2.1751e-01],\n        [8.4774e-03, 9.9152e-01],\n        [9.3077e-01, 6.9232e-02],\n        [9.3422e-01, 6.5780e-02],\n        [5.4353e-01, 4.5647e-01],\n        [9.8197e-01, 1.8031e-02],\n        [2.1260e-02, 9.7874e-01],\n        [8.8451e-02, 9.1155e-01],\n        [8.5290e-01, 1.4710e-01],\n        [2.0587e-02, 9.7941e-01],\n        [7.6479e-01, 2.3521e-01],\n        [9.2096e-01, 7.9042e-02],\n        [4.2416e-01, 5.7584e-01],\n        [7.9380e-02, 9.2062e-01],\n        [7.8673e-01, 2.1327e-01],\n        [9.5680e-01, 4.3200e-02],\n        [1.5787e-02, 9.8421e-01],\n        [8.6600e-01, 1.3400e-01],\n        [9.5471e-01, 4.5292e-02],\n        [2.1037e-02, 9.7896e-01],\n        [3.2575e-03, 9.9674e-01],\n        [5.2453e-01, 4.7547e-01],\n        [9.4971e-01, 5.0289e-02],\n        [8.0613e-01, 1.9387e-01],\n        [8.5960e-01, 1.4040e-01],\n        [9.3422e-01, 6.5780e-02],\n        [8.5943e-01, 1.4057e-01],\n        [4.9322e-01, 5.0678e-01],\n        [4.8979e-01, 5.1021e-01],\n        [8.9553e-01, 1.0447e-01],\n        [5.1125e-02, 9.4887e-01],\n        [8.7712e-01, 1.2288e-01],\n        [9.6002e-01, 3.9980e-02],\n        [8.3412e-01, 1.6588e-01],\n        [8.4183e-01, 1.5817e-01],\n        [5.5424e-01, 4.4576e-01],\n        [1.2046e-01, 8.7954e-01],\n        [3.2494e-01, 6.7506e-01],\n        [9.5062e-01, 4.9377e-02],\n        [9.8786e-01, 1.2140e-02],\n        [2.7531e-02, 9.7247e-01],\n        [8.4455e-01, 1.5545e-01],\n        [4.2976e-02, 9.5702e-01],\n        [8.8859e-01, 1.1141e-01],\n        [8.9963e-01, 1.0037e-01],\n        [1.5276e-02, 9.8472e-01],\n        [9.2918e-01, 7.0821e-02],\n        [1.5051e-02, 9.8495e-01],\n        [4.8189e-01, 5.1811e-01],\n        [6.6194e-01, 3.3806e-01],\n        [5.0019e-01, 4.9981e-01],\n        [9.5784e-01, 4.2156e-02],\n        [6.9522e-01, 3.0478e-01],\n        [1.6503e-01, 8.3497e-01],\n        [3.7567e-01, 6.2433e-01],\n        [1.6495e-01, 8.3505e-01],\n        [3.2694e-03, 9.9673e-01],\n        [4.9734e-01, 5.0266e-01],\n        [9.3051e-01, 6.9491e-02],\n        [3.4057e-02, 9.6594e-01],\n        [9.2703e-01, 7.2969e-02],\n        [9.3051e-01, 6.9491e-02],\n        [9.0085e-01, 9.9153e-02]])"
     },
     "execution_count": 32,
     "metadata": {},
     "output_type": "execute_result"
    }
   ],
   "source": [
    "preds"
   ],
   "metadata": {
    "collapsed": false
   }
  },
  {
   "cell_type": "code",
   "execution_count": 33,
   "outputs": [],
   "source": [
    "# Create a submission CSV for Kaggle\n",
    "test_df['Survived'] = (preds[:, 1]>0.5).int()\n",
    "sub_df = test_df[['PassengerId', 'Survived']]\n",
    "sub_df.to_csv('sub.csv', index=False)"
   ],
   "metadata": {
    "collapsed": false
   }
  },
  {
   "cell_type": "code",
   "execution_count": 34,
   "outputs": [
    {
     "name": "stdout",
     "output_type": "stream",
     "text": [
      "PassengerId,Survived\r\n",
      "892,0\r\n",
      "893,0\r\n",
      "894,0\r\n",
      "895,0\r\n",
      "896,0\r\n",
      "897,0\r\n",
      "898,1\r\n",
      "899,0\r\n",
      "900,1\r\n"
     ]
    }
   ],
   "source": [
    "!head sub.csv"
   ],
   "metadata": {
    "collapsed": false
   }
  },
  {
   "cell_type": "code",
   "execution_count": null,
   "outputs": [],
   "source": [],
   "metadata": {
    "collapsed": false
   }
  }
 ],
 "metadata": {
  "kernelspec": {
   "display_name": "Python 3 (ipykernel)",
   "language": "python",
   "name": "python3"
  },
  "language_info": {
   "codemirror_mode": {
    "name": "ipython",
    "version": 3
   },
   "file_extension": ".py",
   "mimetype": "text/x-python",
   "name": "python",
   "nbconvert_exporter": "python",
   "pygments_lexer": "ipython3",
   "version": "3.8.10"
  }
 },
 "nbformat": 4,
 "nbformat_minor": 1
}
