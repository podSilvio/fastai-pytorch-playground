{
 "cells": [
  {
   "cell_type": "code",
   "execution_count": 1,
   "metadata": {
    "collapsed": true
   },
   "outputs": [],
   "source": [
    "import pandas as pd\n",
    "import torch"
   ]
  },
  {
   "cell_type": "code",
   "execution_count": 2,
   "outputs": [],
   "source": [
    "# Import train and test set\n",
    "train = pd.read_csv('titanic-dataset/train.csv')\n",
    "test = pd.read_csv('titanic-dataset/test.csv')"
   ],
   "metadata": {
    "collapsed": false
   }
  },
  {
   "cell_type": "code",
   "execution_count": 3,
   "outputs": [],
   "source": [
    "# Get target values\n",
    "y = train['Survived']\n",
    "\n",
    "# Drop the Survived column and remove it from further calculations\n",
    "train.drop(columns=['Survived'], inplace=True)"
   ],
   "metadata": {
    "collapsed": false
   }
  },
  {
   "cell_type": "markdown",
   "source": [
    "### Train-test-split"
   ],
   "metadata": {
    "collapsed": false
   }
  },
  {
   "cell_type": "code",
   "execution_count": 4,
   "outputs": [],
   "source": [
    "from sklearn.model_selection import train_test_split\n",
    "X_train, X_test, y_train, y_test = train_test_split(train, y, test_size=0.33, random_state=42)"
   ],
   "metadata": {
    "collapsed": false
   }
  },
  {
   "cell_type": "markdown",
   "source": [
    "### NaN values"
   ],
   "metadata": {
    "collapsed": false
   }
  },
  {
   "cell_type": "code",
   "execution_count": 5,
   "outputs": [
    {
     "data": {
      "text/plain": "PassengerId      0\nPclass           0\nName             0\nSex              0\nAge            118\nSibSp            0\nParch            0\nTicket           0\nFare             0\nCabin          462\nEmbarked         1\ndtype: int64"
     },
     "execution_count": 5,
     "metadata": {},
     "output_type": "execute_result"
    }
   ],
   "source": [
    "# Check for NaN values\n",
    "X_train.isna().sum()"
   ],
   "metadata": {
    "collapsed": false
   }
  },
  {
   "cell_type": "code",
   "execution_count": 6,
   "outputs": [
    {
     "data": {
      "text/plain": "PassengerId                              1\nPclass                                 3.0\nName           Abbott, Mr. Rossmore Edward\nSex                                   male\nAge                                   24.0\nSibSp                                  0.0\nParch                                  0.0\nTicket                            CA. 2343\nFare                                  8.05\nCabin                          C23 C25 C27\nEmbarked                                 S\nName: 0, dtype: object"
     },
     "execution_count": 6,
     "metadata": {},
     "output_type": "execute_result"
    }
   ],
   "source": [
    "# Use mode() function to get the most frequent value\n",
    "modes = X_train.mode().iloc[0]\n",
    "modes"
   ],
   "metadata": {
    "collapsed": false
   }
  },
  {
   "cell_type": "code",
   "execution_count": 7,
   "outputs": [],
   "source": [
    "# Use fillna with most frequent values\n",
    "X_train.fillna(modes, inplace=True)"
   ],
   "metadata": {
    "collapsed": false
   }
  },
  {
   "cell_type": "code",
   "execution_count": 8,
   "outputs": [
    {
     "data": {
      "text/plain": "0"
     },
     "execution_count": 8,
     "metadata": {},
     "output_type": "execute_result"
    }
   ],
   "source": [
    "# Check for NaN values\n",
    "X_train.isna().sum().sum()"
   ],
   "metadata": {
    "collapsed": false
   }
  },
  {
   "cell_type": "markdown",
   "source": [
    "Get rid of 'Name', 'Ticket' abd 'Cabin' variables\n",
    "**NOTE**: We don't use those values because right now it is out of scope. However, information in those variables are crucial and very imortant! The best score in Kaggle on Titanic dataset is performed only on 'Name' variable! See this notebook for more information: https://www.kaggle.com/code/cdeotte/titanic-using-name-only-0-81818/notebook\n",
    "**NOTE**: It's very common in tabular data to use *categorical embeddings*. This is on *TODO* list right after finishing this notebook."
   ],
   "metadata": {
    "collapsed": false
   }
  },
  {
   "cell_type": "code",
   "execution_count": 9,
   "outputs": [],
   "source": [
    "X_train.drop(columns=['Name', 'Ticket', 'Cabin'], inplace=True)"
   ],
   "metadata": {
    "collapsed": false
   }
  },
  {
   "cell_type": "markdown",
   "source": [
    "### Label encoding"
   ],
   "metadata": {
    "collapsed": false
   }
  },
  {
   "cell_type": "code",
   "execution_count": 10,
   "outputs": [
    {
     "data": {
      "text/plain": "     index  PassengerId  Pclass     Sex   Age  SibSp  Parch      Fare Embarked\n0        6            7       1    male  54.0      0      0   51.8625        S\n1      718          719       3    male  24.0      0      0   15.5000        Q\n2      685          686       2    male  25.0      1      2   41.5792        C\n3       73           74       3    male  26.0      1      0   14.4542        C\n4      882          883       3  female  22.0      0      0   10.5167        S\n..     ...          ...     ...     ...   ...    ...    ...       ...      ...\n591    106          107       3  female  21.0      0      0    7.6500        S\n592    270          271       1    male  24.0      0      0   31.0000        S\n593    860          861       3    male  41.0      2      0   14.1083        S\n594    435          436       1  female  14.0      1      2  120.0000        S\n595    102          103       1    male  21.0      0      1   77.2875        S\n\n[596 rows x 9 columns]",
      "text/html": "<div>\n<style scoped>\n    .dataframe tbody tr th:only-of-type {\n        vertical-align: middle;\n    }\n\n    .dataframe tbody tr th {\n        vertical-align: top;\n    }\n\n    .dataframe thead th {\n        text-align: right;\n    }\n</style>\n<table border=\"1\" class=\"dataframe\">\n  <thead>\n    <tr style=\"text-align: right;\">\n      <th></th>\n      <th>index</th>\n      <th>PassengerId</th>\n      <th>Pclass</th>\n      <th>Sex</th>\n      <th>Age</th>\n      <th>SibSp</th>\n      <th>Parch</th>\n      <th>Fare</th>\n      <th>Embarked</th>\n    </tr>\n  </thead>\n  <tbody>\n    <tr>\n      <th>0</th>\n      <td>6</td>\n      <td>7</td>\n      <td>1</td>\n      <td>male</td>\n      <td>54.0</td>\n      <td>0</td>\n      <td>0</td>\n      <td>51.8625</td>\n      <td>S</td>\n    </tr>\n    <tr>\n      <th>1</th>\n      <td>718</td>\n      <td>719</td>\n      <td>3</td>\n      <td>male</td>\n      <td>24.0</td>\n      <td>0</td>\n      <td>0</td>\n      <td>15.5000</td>\n      <td>Q</td>\n    </tr>\n    <tr>\n      <th>2</th>\n      <td>685</td>\n      <td>686</td>\n      <td>2</td>\n      <td>male</td>\n      <td>25.0</td>\n      <td>1</td>\n      <td>2</td>\n      <td>41.5792</td>\n      <td>C</td>\n    </tr>\n    <tr>\n      <th>3</th>\n      <td>73</td>\n      <td>74</td>\n      <td>3</td>\n      <td>male</td>\n      <td>26.0</td>\n      <td>1</td>\n      <td>0</td>\n      <td>14.4542</td>\n      <td>C</td>\n    </tr>\n    <tr>\n      <th>4</th>\n      <td>882</td>\n      <td>883</td>\n      <td>3</td>\n      <td>female</td>\n      <td>22.0</td>\n      <td>0</td>\n      <td>0</td>\n      <td>10.5167</td>\n      <td>S</td>\n    </tr>\n    <tr>\n      <th>...</th>\n      <td>...</td>\n      <td>...</td>\n      <td>...</td>\n      <td>...</td>\n      <td>...</td>\n      <td>...</td>\n      <td>...</td>\n      <td>...</td>\n      <td>...</td>\n    </tr>\n    <tr>\n      <th>591</th>\n      <td>106</td>\n      <td>107</td>\n      <td>3</td>\n      <td>female</td>\n      <td>21.0</td>\n      <td>0</td>\n      <td>0</td>\n      <td>7.6500</td>\n      <td>S</td>\n    </tr>\n    <tr>\n      <th>592</th>\n      <td>270</td>\n      <td>271</td>\n      <td>1</td>\n      <td>male</td>\n      <td>24.0</td>\n      <td>0</td>\n      <td>0</td>\n      <td>31.0000</td>\n      <td>S</td>\n    </tr>\n    <tr>\n      <th>593</th>\n      <td>860</td>\n      <td>861</td>\n      <td>3</td>\n      <td>male</td>\n      <td>41.0</td>\n      <td>2</td>\n      <td>0</td>\n      <td>14.1083</td>\n      <td>S</td>\n    </tr>\n    <tr>\n      <th>594</th>\n      <td>435</td>\n      <td>436</td>\n      <td>1</td>\n      <td>female</td>\n      <td>14.0</td>\n      <td>1</td>\n      <td>2</td>\n      <td>120.0000</td>\n      <td>S</td>\n    </tr>\n    <tr>\n      <th>595</th>\n      <td>102</td>\n      <td>103</td>\n      <td>1</td>\n      <td>male</td>\n      <td>21.0</td>\n      <td>0</td>\n      <td>1</td>\n      <td>77.2875</td>\n      <td>S</td>\n    </tr>\n  </tbody>\n</table>\n<p>596 rows × 9 columns</p>\n</div>"
     },
     "execution_count": 10,
     "metadata": {},
     "output_type": "execute_result"
    }
   ],
   "source": [
    "# Explore which variables are categorical\n",
    "X_train.reset_index(inplace=True)\n",
    "X_train"
   ],
   "metadata": {
    "collapsed": false
   }
  },
  {
   "cell_type": "code",
   "execution_count": 11,
   "outputs": [],
   "source": [
    "# Categorical varaibles are Pclass, Sex, Embarked - use one-hot encoding for gender and label for embarked\n",
    "from sklearn.preprocessing import LabelEncoder, OneHotEncoder\n",
    "\n",
    "label_encoder = LabelEncoder()\n",
    "one_hot_encoder = OneHotEncoder()"
   ],
   "metadata": {
    "collapsed": false
   }
  },
  {
   "cell_type": "code",
   "execution_count": 12,
   "outputs": [],
   "source": [
    "# Use one_hot_encode for gender\n",
    "gender = one_hot_encoder.fit_transform(X_train[['Sex']])\n",
    "gender_df = pd.DataFrame(gender.toarray(), columns=['Male', 'Female'])"
   ],
   "metadata": {
    "collapsed": false
   }
  },
  {
   "cell_type": "code",
   "execution_count": 13,
   "outputs": [
    {
     "data": {
      "text/plain": "             index  Pclass   Age  SibSp  Parch      Fare  Embarked  Male  \\\nPassengerId                                                                \n7                6       1  54.0      0      0   51.8625         2   0.0   \n719            718       3  24.0      0      0   15.5000         1   0.0   \n686            685       2  25.0      1      2   41.5792         0   0.0   \n74              73       3  26.0      1      0   14.4542         0   0.0   \n883            882       3  22.0      0      0   10.5167         2   1.0   \n...            ...     ...   ...    ...    ...       ...       ...   ...   \n107            106       3  21.0      0      0    7.6500         2   1.0   \n271            270       1  24.0      0      0   31.0000         2   0.0   \n861            860       3  41.0      2      0   14.1083         2   0.0   \n436            435       1  14.0      1      2  120.0000         2   1.0   \n103            102       1  21.0      0      1   77.2875         2   0.0   \n\n             Female  \nPassengerId          \n7               1.0  \n719             1.0  \n686             1.0  \n74              1.0  \n883             0.0  \n...             ...  \n107             0.0  \n271             1.0  \n861             1.0  \n436             0.0  \n103             1.0  \n\n[596 rows x 9 columns]",
      "text/html": "<div>\n<style scoped>\n    .dataframe tbody tr th:only-of-type {\n        vertical-align: middle;\n    }\n\n    .dataframe tbody tr th {\n        vertical-align: top;\n    }\n\n    .dataframe thead th {\n        text-align: right;\n    }\n</style>\n<table border=\"1\" class=\"dataframe\">\n  <thead>\n    <tr style=\"text-align: right;\">\n      <th></th>\n      <th>index</th>\n      <th>Pclass</th>\n      <th>Age</th>\n      <th>SibSp</th>\n      <th>Parch</th>\n      <th>Fare</th>\n      <th>Embarked</th>\n      <th>Male</th>\n      <th>Female</th>\n    </tr>\n    <tr>\n      <th>PassengerId</th>\n      <th></th>\n      <th></th>\n      <th></th>\n      <th></th>\n      <th></th>\n      <th></th>\n      <th></th>\n      <th></th>\n      <th></th>\n    </tr>\n  </thead>\n  <tbody>\n    <tr>\n      <th>7</th>\n      <td>6</td>\n      <td>1</td>\n      <td>54.0</td>\n      <td>0</td>\n      <td>0</td>\n      <td>51.8625</td>\n      <td>2</td>\n      <td>0.0</td>\n      <td>1.0</td>\n    </tr>\n    <tr>\n      <th>719</th>\n      <td>718</td>\n      <td>3</td>\n      <td>24.0</td>\n      <td>0</td>\n      <td>0</td>\n      <td>15.5000</td>\n      <td>1</td>\n      <td>0.0</td>\n      <td>1.0</td>\n    </tr>\n    <tr>\n      <th>686</th>\n      <td>685</td>\n      <td>2</td>\n      <td>25.0</td>\n      <td>1</td>\n      <td>2</td>\n      <td>41.5792</td>\n      <td>0</td>\n      <td>0.0</td>\n      <td>1.0</td>\n    </tr>\n    <tr>\n      <th>74</th>\n      <td>73</td>\n      <td>3</td>\n      <td>26.0</td>\n      <td>1</td>\n      <td>0</td>\n      <td>14.4542</td>\n      <td>0</td>\n      <td>0.0</td>\n      <td>1.0</td>\n    </tr>\n    <tr>\n      <th>883</th>\n      <td>882</td>\n      <td>3</td>\n      <td>22.0</td>\n      <td>0</td>\n      <td>0</td>\n      <td>10.5167</td>\n      <td>2</td>\n      <td>1.0</td>\n      <td>0.0</td>\n    </tr>\n    <tr>\n      <th>...</th>\n      <td>...</td>\n      <td>...</td>\n      <td>...</td>\n      <td>...</td>\n      <td>...</td>\n      <td>...</td>\n      <td>...</td>\n      <td>...</td>\n      <td>...</td>\n    </tr>\n    <tr>\n      <th>107</th>\n      <td>106</td>\n      <td>3</td>\n      <td>21.0</td>\n      <td>0</td>\n      <td>0</td>\n      <td>7.6500</td>\n      <td>2</td>\n      <td>1.0</td>\n      <td>0.0</td>\n    </tr>\n    <tr>\n      <th>271</th>\n      <td>270</td>\n      <td>1</td>\n      <td>24.0</td>\n      <td>0</td>\n      <td>0</td>\n      <td>31.0000</td>\n      <td>2</td>\n      <td>0.0</td>\n      <td>1.0</td>\n    </tr>\n    <tr>\n      <th>861</th>\n      <td>860</td>\n      <td>3</td>\n      <td>41.0</td>\n      <td>2</td>\n      <td>0</td>\n      <td>14.1083</td>\n      <td>2</td>\n      <td>0.0</td>\n      <td>1.0</td>\n    </tr>\n    <tr>\n      <th>436</th>\n      <td>435</td>\n      <td>1</td>\n      <td>14.0</td>\n      <td>1</td>\n      <td>2</td>\n      <td>120.0000</td>\n      <td>2</td>\n      <td>1.0</td>\n      <td>0.0</td>\n    </tr>\n    <tr>\n      <th>103</th>\n      <td>102</td>\n      <td>1</td>\n      <td>21.0</td>\n      <td>0</td>\n      <td>1</td>\n      <td>77.2875</td>\n      <td>2</td>\n      <td>0.0</td>\n      <td>1.0</td>\n    </tr>\n  </tbody>\n</table>\n<p>596 rows × 9 columns</p>\n</div>"
     },
     "execution_count": 13,
     "metadata": {},
     "output_type": "execute_result"
    }
   ],
   "source": [
    "#Merge train with encoded gender\n",
    "X_train = pd.concat([X_train, gender_df], axis=1)\n",
    "\n",
    "# Drop unused column\n",
    "X_train.drop(columns=['Sex'], inplace=True)\n",
    "\n",
    "# Encode 'Embarked' with label encoder\n",
    "X_train['Embarked'] = label_encoder.fit_transform(X_train['Embarked'])\n",
    "\n",
    "# Set PassangerID as index\n",
    "X_train.set_index('PassengerId', inplace=True)\n",
    "\n",
    "# Print\n",
    "X_train"
   ],
   "metadata": {
    "collapsed": false
   }
  },
  {
   "cell_type": "markdown",
   "source": [
    "### Use the same preprocessing techniques for test set"
   ],
   "metadata": {
    "collapsed": false
   }
  },
  {
   "cell_type": "code",
   "execution_count": 14,
   "outputs": [],
   "source": [
    "# Use fillna with most frequent values\n",
    "X_test.fillna(modes, inplace=True)"
   ],
   "metadata": {
    "collapsed": false
   }
  },
  {
   "cell_type": "code",
   "execution_count": 15,
   "outputs": [],
   "source": [
    "X_test.reset_index(inplace=True)\n",
    "\n",
    "X_test.drop(columns=['Name', 'Ticket', 'Cabin'], inplace=True)"
   ],
   "metadata": {
    "collapsed": false
   }
  },
  {
   "cell_type": "code",
   "execution_count": 16,
   "outputs": [
    {
     "data": {
      "text/plain": "     Male  Female\n0     0.0     1.0\n1     0.0     1.0\n2     0.0     1.0\n3     1.0     0.0\n4     1.0     0.0\n..    ...     ...\n290   0.0     1.0\n291   0.0     1.0\n292   1.0     0.0\n293   1.0     0.0\n294   0.0     1.0\n\n[295 rows x 2 columns]",
      "text/html": "<div>\n<style scoped>\n    .dataframe tbody tr th:only-of-type {\n        vertical-align: middle;\n    }\n\n    .dataframe tbody tr th {\n        vertical-align: top;\n    }\n\n    .dataframe thead th {\n        text-align: right;\n    }\n</style>\n<table border=\"1\" class=\"dataframe\">\n  <thead>\n    <tr style=\"text-align: right;\">\n      <th></th>\n      <th>Male</th>\n      <th>Female</th>\n    </tr>\n  </thead>\n  <tbody>\n    <tr>\n      <th>0</th>\n      <td>0.0</td>\n      <td>1.0</td>\n    </tr>\n    <tr>\n      <th>1</th>\n      <td>0.0</td>\n      <td>1.0</td>\n    </tr>\n    <tr>\n      <th>2</th>\n      <td>0.0</td>\n      <td>1.0</td>\n    </tr>\n    <tr>\n      <th>3</th>\n      <td>1.0</td>\n      <td>0.0</td>\n    </tr>\n    <tr>\n      <th>4</th>\n      <td>1.0</td>\n      <td>0.0</td>\n    </tr>\n    <tr>\n      <th>...</th>\n      <td>...</td>\n      <td>...</td>\n    </tr>\n    <tr>\n      <th>290</th>\n      <td>0.0</td>\n      <td>1.0</td>\n    </tr>\n    <tr>\n      <th>291</th>\n      <td>0.0</td>\n      <td>1.0</td>\n    </tr>\n    <tr>\n      <th>292</th>\n      <td>1.0</td>\n      <td>0.0</td>\n    </tr>\n    <tr>\n      <th>293</th>\n      <td>1.0</td>\n      <td>0.0</td>\n    </tr>\n    <tr>\n      <th>294</th>\n      <td>0.0</td>\n      <td>1.0</td>\n    </tr>\n  </tbody>\n</table>\n<p>295 rows × 2 columns</p>\n</div>"
     },
     "execution_count": 16,
     "metadata": {},
     "output_type": "execute_result"
    }
   ],
   "source": [
    "# Use one_hot_encode for gender\n",
    "gender_test = one_hot_encoder.transform(X_test[['Sex']])\n",
    "gender_test_df = pd.DataFrame(gender_test.toarray(), columns=['Male', 'Female'])\n",
    "gender_test_df"
   ],
   "metadata": {
    "collapsed": false
   }
  },
  {
   "cell_type": "code",
   "execution_count": 17,
   "outputs": [
    {
     "data": {
      "text/plain": "             index  Pclass   Age  SibSp  Parch     Fare  Embarked  Male  \\\nPassengerId                                                               \n710            709       3  24.0      1      1  15.2458         0   0.0   \n440            439       2  31.0      0      0  10.5000         2   0.0   \n841            840       3  20.0      0      0   7.9250         2   0.0   \n721            720       2   6.0      0      1  33.0000         2   1.0   \n40              39       3  14.0      1      0  11.2417         0   1.0   \n...            ...     ...   ...    ...    ...      ...       ...   ...   \n716            715       3  19.0      0      0   7.6500         2   0.0   \n526            525       3  40.5      0      0   7.7500         1   0.0   \n382            381       3   1.0      0      2  15.7417         0   1.0   \n141            140       3  24.0      0      2  15.2458         0   1.0   \n174            173       3  21.0      0      0   7.9250         2   0.0   \n\n             Female  \nPassengerId          \n710             1.0  \n440             1.0  \n841             1.0  \n721             0.0  \n40              0.0  \n...             ...  \n716             1.0  \n526             1.0  \n382             0.0  \n141             0.0  \n174             1.0  \n\n[295 rows x 9 columns]",
      "text/html": "<div>\n<style scoped>\n    .dataframe tbody tr th:only-of-type {\n        vertical-align: middle;\n    }\n\n    .dataframe tbody tr th {\n        vertical-align: top;\n    }\n\n    .dataframe thead th {\n        text-align: right;\n    }\n</style>\n<table border=\"1\" class=\"dataframe\">\n  <thead>\n    <tr style=\"text-align: right;\">\n      <th></th>\n      <th>index</th>\n      <th>Pclass</th>\n      <th>Age</th>\n      <th>SibSp</th>\n      <th>Parch</th>\n      <th>Fare</th>\n      <th>Embarked</th>\n      <th>Male</th>\n      <th>Female</th>\n    </tr>\n    <tr>\n      <th>PassengerId</th>\n      <th></th>\n      <th></th>\n      <th></th>\n      <th></th>\n      <th></th>\n      <th></th>\n      <th></th>\n      <th></th>\n      <th></th>\n    </tr>\n  </thead>\n  <tbody>\n    <tr>\n      <th>710</th>\n      <td>709</td>\n      <td>3</td>\n      <td>24.0</td>\n      <td>1</td>\n      <td>1</td>\n      <td>15.2458</td>\n      <td>0</td>\n      <td>0.0</td>\n      <td>1.0</td>\n    </tr>\n    <tr>\n      <th>440</th>\n      <td>439</td>\n      <td>2</td>\n      <td>31.0</td>\n      <td>0</td>\n      <td>0</td>\n      <td>10.5000</td>\n      <td>2</td>\n      <td>0.0</td>\n      <td>1.0</td>\n    </tr>\n    <tr>\n      <th>841</th>\n      <td>840</td>\n      <td>3</td>\n      <td>20.0</td>\n      <td>0</td>\n      <td>0</td>\n      <td>7.9250</td>\n      <td>2</td>\n      <td>0.0</td>\n      <td>1.0</td>\n    </tr>\n    <tr>\n      <th>721</th>\n      <td>720</td>\n      <td>2</td>\n      <td>6.0</td>\n      <td>0</td>\n      <td>1</td>\n      <td>33.0000</td>\n      <td>2</td>\n      <td>1.0</td>\n      <td>0.0</td>\n    </tr>\n    <tr>\n      <th>40</th>\n      <td>39</td>\n      <td>3</td>\n      <td>14.0</td>\n      <td>1</td>\n      <td>0</td>\n      <td>11.2417</td>\n      <td>0</td>\n      <td>1.0</td>\n      <td>0.0</td>\n    </tr>\n    <tr>\n      <th>...</th>\n      <td>...</td>\n      <td>...</td>\n      <td>...</td>\n      <td>...</td>\n      <td>...</td>\n      <td>...</td>\n      <td>...</td>\n      <td>...</td>\n      <td>...</td>\n    </tr>\n    <tr>\n      <th>716</th>\n      <td>715</td>\n      <td>3</td>\n      <td>19.0</td>\n      <td>0</td>\n      <td>0</td>\n      <td>7.6500</td>\n      <td>2</td>\n      <td>0.0</td>\n      <td>1.0</td>\n    </tr>\n    <tr>\n      <th>526</th>\n      <td>525</td>\n      <td>3</td>\n      <td>40.5</td>\n      <td>0</td>\n      <td>0</td>\n      <td>7.7500</td>\n      <td>1</td>\n      <td>0.0</td>\n      <td>1.0</td>\n    </tr>\n    <tr>\n      <th>382</th>\n      <td>381</td>\n      <td>3</td>\n      <td>1.0</td>\n      <td>0</td>\n      <td>2</td>\n      <td>15.7417</td>\n      <td>0</td>\n      <td>1.0</td>\n      <td>0.0</td>\n    </tr>\n    <tr>\n      <th>141</th>\n      <td>140</td>\n      <td>3</td>\n      <td>24.0</td>\n      <td>0</td>\n      <td>2</td>\n      <td>15.2458</td>\n      <td>0</td>\n      <td>1.0</td>\n      <td>0.0</td>\n    </tr>\n    <tr>\n      <th>174</th>\n      <td>173</td>\n      <td>3</td>\n      <td>21.0</td>\n      <td>0</td>\n      <td>0</td>\n      <td>7.9250</td>\n      <td>2</td>\n      <td>0.0</td>\n      <td>1.0</td>\n    </tr>\n  </tbody>\n</table>\n<p>295 rows × 9 columns</p>\n</div>"
     },
     "execution_count": 17,
     "metadata": {},
     "output_type": "execute_result"
    }
   ],
   "source": [
    "# Merge train with encoded gender\n",
    "X_test = pd.concat([X_test, gender_test_df], axis=1)\n",
    "\n",
    "# Drop unused column\n",
    "X_test.drop(columns=['Sex'], inplace=True)\n",
    "\n",
    "# Encode 'Embarked' with label encoder\n",
    "X_test['Embarked'] = label_encoder.transform(X_test['Embarked'])\n",
    "\n",
    "# Set PassangerID as index\n",
    "X_test.set_index('PassengerId', inplace=True)\n",
    "\n",
    "# Print\n",
    "X_test"
   ],
   "metadata": {
    "collapsed": false
   }
  },
  {
   "cell_type": "code",
   "execution_count": 18,
   "outputs": [
    {
     "data": {
      "text/plain": "(596, 9)"
     },
     "metadata": {},
     "output_type": "display_data"
    },
    {
     "data": {
      "text/plain": "(295, 9)"
     },
     "metadata": {},
     "output_type": "display_data"
    }
   ],
   "source": [
    "# Check whether the dimensions are correct\n",
    "display(X_train.shape)\n",
    "display(X_test.shape)"
   ],
   "metadata": {
    "collapsed": false
   }
  },
  {
   "cell_type": "markdown",
   "source": [
    "## Model"
   ],
   "metadata": {
    "collapsed": false
   }
  },
  {
   "cell_type": "code",
   "execution_count": 19,
   "outputs": [],
   "source": [
    "from torch import nn\n",
    "import torch.optim as optim\n",
    "from torch.utils.data import Dataset, DataLoader"
   ],
   "metadata": {
    "collapsed": false
   }
  },
  {
   "cell_type": "code",
   "execution_count": 20,
   "outputs": [
    {
     "name": "stdout",
     "output_type": "stream",
     "text": [
      "Using cpu device\n"
     ]
    }
   ],
   "source": [
    "# Get cpu or gpu device for training.\n",
    "device = \"cuda\" if torch.cuda.is_available() else \"cpu\"\n",
    "print(f\"Using {device} device\")"
   ],
   "metadata": {
    "collapsed": false
   }
  },
  {
   "cell_type": "code",
   "execution_count": 21,
   "outputs": [],
   "source": [
    "n_features = X_train.shape[1]\n",
    "\n",
    "# Define the class\n",
    "class TitanicNetwork(nn.Module):\n",
    "    def __init__(self):\n",
    "        super(TitanicNetwork, self).__init__()\n",
    "\n",
    "        # Number of input features is 9\n",
    "        self.layer_in = nn.Linear(n_features, 63)\n",
    "        self.layer_2 = nn.Linear(63, 63)\n",
    "        self.layer_out = nn.Linear(63,1)\n",
    "\n",
    "        self.relu = nn.ReLU()\n",
    "        # self.dropout = nn.Dropout(p=0.1)\n",
    "        self.batchnorm1 = nn.BatchNorm1d(63)\n",
    "        self.batchnorm2 = nn.BatchNorm1d(63)\n",
    "\n",
    "    def forward(self, inputs):\n",
    "        x = self.relu(self.layer_in(inputs))\n",
    "        x = self.batchnorm1(x)\n",
    "        x = self.relu(self.layer_2(x))\n",
    "        x = self.batchnorm2(x)\n",
    "        # x = self.dropout(x)\n",
    "        x = self.layer_out(x)\n",
    "\n",
    "        return x\n",
    "\n",
    "titanic_network = TitanicNetwork()"
   ],
   "metadata": {
    "collapsed": false
   }
  },
  {
   "cell_type": "markdown",
   "source": [
    "**Note**: that we did not use the Sigmoid activation in our final layer during training. That’s because, we use the nn.BCEWithLogitsLoss() loss function which automatically applies the Sigmoid activation."
   ],
   "metadata": {
    "collapsed": false
   }
  },
  {
   "cell_type": "code",
   "execution_count": 22,
   "outputs": [
    {
     "data": {
      "text/plain": "TitanicNetwork(\n  (layer_in): Linear(in_features=9, out_features=63, bias=True)\n  (layer_2): Linear(in_features=63, out_features=63, bias=True)\n  (layer_out): Linear(in_features=63, out_features=1, bias=True)\n  (relu): ReLU()\n  (batchnorm1): BatchNorm1d(63, eps=1e-05, momentum=0.1, affine=True, track_running_stats=True)\n  (batchnorm2): BatchNorm1d(63, eps=1e-05, momentum=0.1, affine=True, track_running_stats=True)\n)"
     },
     "execution_count": 22,
     "metadata": {},
     "output_type": "execute_result"
    }
   ],
   "source": [
    "# Initialize the model\n",
    "model = TitanicNetwork()\n",
    "\n",
    "# Specify the device type responsible to load model into memory\n",
    "model.to(device)"
   ],
   "metadata": {
    "collapsed": false
   }
  },
  {
   "cell_type": "code",
   "execution_count": 23,
   "outputs": [
    {
     "name": "stdout",
     "output_type": "stream",
     "text": [
      "TitanicNetwork(\n",
      "  (layer_in): Linear(in_features=9, out_features=63, bias=True)\n",
      "  (layer_2): Linear(in_features=63, out_features=63, bias=True)\n",
      "  (layer_out): Linear(in_features=63, out_features=1, bias=True)\n",
      "  (relu): ReLU()\n",
      "  (batchnorm1): BatchNorm1d(63, eps=1e-05, momentum=0.1, affine=True, track_running_stats=True)\n",
      "  (batchnorm2): BatchNorm1d(63, eps=1e-05, momentum=0.1, affine=True, track_running_stats=True)\n",
      ")\n"
     ]
    }
   ],
   "source": [
    "print(model)"
   ],
   "metadata": {
    "collapsed": false
   }
  },
  {
   "cell_type": "code",
   "execution_count": 24,
   "outputs": [
    {
     "name": "stdout",
     "output_type": "stream",
     "text": [
      "[('layer_in.weight', Parameter containing:\n",
      "tensor([[-7.3971e-02,  1.7661e-01,  7.6122e-02,  2.8036e-01,  1.6978e-01,\n",
      "          2.5052e-01,  2.0703e-01,  2.4127e-01,  3.2561e-01],\n",
      "        [-1.9253e-01,  2.2481e-01,  2.4355e-01, -1.9554e-01,  1.1612e-01,\n",
      "         -2.5172e-01,  1.4828e-01, -2.2498e-01,  2.4661e-01],\n",
      "        [-3.1150e-01,  3.1333e-01,  2.3520e-01, -2.7171e-02,  6.8032e-02,\n",
      "          3.1793e-01, -5.2225e-02, -7.7777e-02,  1.6124e-01],\n",
      "        [ 2.4381e-01,  1.7428e-01, -3.1598e-01,  2.5812e-01,  1.7366e-01,\n",
      "         -1.7323e-01, -9.8222e-02,  9.4553e-04,  1.8483e-01],\n",
      "        [ 1.6553e-01, -9.0404e-02,  5.0062e-02, -1.7507e-01, -1.4549e-01,\n",
      "         -1.0158e-01,  1.9273e-01,  1.3652e-01,  2.0312e-01],\n",
      "        [ 2.9178e-02,  2.6620e-01,  1.7696e-01, -1.1525e-01, -1.2717e-01,\n",
      "         -2.7359e-01,  1.3422e-01,  3.2530e-01, -2.8203e-01],\n",
      "        [ 1.3928e-01,  7.6605e-02,  2.9457e-01, -3.7359e-02, -1.5882e-02,\n",
      "         -3.3963e-02,  2.9153e-01, -1.9203e-01,  1.8334e-01],\n",
      "        [-2.3867e-01, -2.3266e-01,  2.7831e-01,  3.2893e-01, -1.9825e-01,\n",
      "         -3.1986e-01,  1.8016e-01,  3.8412e-02,  1.9016e-01],\n",
      "        [ 2.9305e-01,  2.5283e-01,  4.7073e-02,  4.1648e-02,  1.7884e-01,\n",
      "          1.5142e-02, -2.7478e-01, -2.6260e-01, -1.6594e-01],\n",
      "        [ 1.2933e-01,  3.1799e-01,  1.5581e-02,  2.7610e-01,  1.7674e-02,\n",
      "         -1.2130e-01,  4.7028e-02,  2.3821e-01, -1.2686e-01],\n",
      "        [-2.1713e-01,  1.0499e-01,  2.1903e-01, -3.1706e-01,  4.4307e-02,\n",
      "          1.4923e-01,  2.1104e-01,  2.5942e-01, -2.6839e-01],\n",
      "        [ 2.3634e-02,  2.3328e-01, -5.5826e-02,  1.8842e-01, -3.5793e-02,\n",
      "         -1.3246e-01, -2.7174e-01, -1.7192e-01, -1.2912e-01],\n",
      "        [ 1.5170e-01, -2.4696e-02, -3.5972e-02,  2.7470e-01,  2.4244e-02,\n",
      "         -2.5684e-01,  1.7411e-01,  3.2908e-01,  1.3326e-01],\n",
      "        [-2.2082e-01,  1.4332e-01, -2.7492e-01,  1.9031e-01,  1.5024e-01,\n",
      "          6.5201e-02, -2.7053e-01,  2.2882e-01,  3.2732e-01],\n",
      "        [ 1.2187e-01,  2.9379e-01, -3.4596e-02,  7.5114e-02, -1.6304e-01,\n",
      "          6.8931e-02,  2.7479e-01,  7.1227e-02,  1.6435e-01],\n",
      "        [-2.4819e-01, -2.9553e-01, -3.3038e-01, -1.4934e-01,  6.5621e-02,\n",
      "          3.3236e-03, -2.3276e-01, -3.1079e-01, -2.5146e-01],\n",
      "        [-2.3847e-01, -2.2408e-02,  2.5244e-01,  1.1077e-01,  1.9341e-01,\n",
      "          2.4942e-01, -2.5737e-01, -1.5092e-01,  2.2298e-01],\n",
      "        [-2.4879e-01,  1.6966e-01, -2.1102e-01, -1.2392e-01, -2.7094e-01,\n",
      "         -1.5659e-01,  3.1498e-01,  4.7710e-02, -2.1819e-01],\n",
      "        [-2.2420e-01, -1.3635e-01, -8.4949e-02, -3.7742e-02,  1.4382e-01,\n",
      "          2.4861e-01,  1.5895e-01, -3.1745e-01, -1.5944e-01],\n",
      "        [-3.2153e-01, -1.1341e-01,  1.7985e-01,  2.2486e-01,  2.9121e-01,\n",
      "         -6.5940e-02, -1.8074e-01, -2.7673e-01,  2.9270e-01],\n",
      "        [ 3.1915e-01, -6.1157e-02, -2.0445e-01, -8.7909e-03, -5.2232e-02,\n",
      "         -1.3289e-01,  2.8395e-01, -1.5502e-03, -2.8098e-01],\n",
      "        [-2.3047e-01,  2.7845e-01,  2.9743e-01,  6.6987e-02,  1.9189e-01,\n",
      "         -2.2498e-02, -1.6215e-01, -2.6897e-01,  3.2715e-01],\n",
      "        [-5.9427e-02, -2.1912e-01,  5.1047e-03, -2.2270e-01, -1.0483e-01,\n",
      "         -9.0137e-03,  1.6631e-01,  1.9431e-02, -6.0136e-02],\n",
      "        [-3.0839e-01,  3.0210e-01,  3.2507e-01, -2.9170e-01,  3.3706e-02,\n",
      "          3.1670e-02,  3.5472e-02,  2.3657e-01,  2.1041e-01],\n",
      "        [-6.8794e-02, -3.6344e-02, -2.2246e-01,  2.1483e-01, -2.9597e-01,\n",
      "          3.1889e-01, -3.0716e-01,  3.2606e-02, -5.9705e-03],\n",
      "        [-2.6261e-01, -3.0239e-01,  7.1606e-02,  1.4338e-01,  4.3821e-02,\n",
      "          1.1861e-01, -1.8094e-01, -3.1483e-01,  9.0629e-02],\n",
      "        [ 2.5275e-01,  2.7243e-01,  1.8553e-01,  1.3887e-01,  1.7215e-02,\n",
      "          2.4315e-01, -2.7771e-01,  1.8709e-01, -7.6544e-02],\n",
      "        [-5.6762e-02,  1.6994e-01, -9.6981e-02, -9.6868e-02,  2.2315e-01,\n",
      "         -2.9012e-01, -1.5021e-01,  1.8529e-03, -1.5950e-01],\n",
      "        [ 7.3244e-02, -1.1618e-01, -7.8442e-02, -3.0631e-02,  1.1250e-02,\n",
      "         -2.0717e-01, -1.9623e-01,  3.5586e-02, -2.8789e-01],\n",
      "        [-2.8627e-01, -2.0817e-01, -3.9295e-02,  2.4719e-01, -1.8953e-01,\n",
      "         -1.6886e-02, -2.1225e-01,  1.3249e-01, -2.3650e-01],\n",
      "        [-2.0068e-01, -9.6498e-02, -5.4853e-02,  5.9124e-02, -3.6869e-02,\n",
      "          1.9982e-01, -1.9534e-01, -1.3008e-01, -2.5204e-01],\n",
      "        [-1.7699e-01, -1.9144e-01, -2.3220e-01, -2.0208e-01,  2.2581e-01,\n",
      "          1.6474e-01, -1.9044e-01,  1.1061e-01, -3.0309e-01],\n",
      "        [-2.9669e-02, -5.2553e-02,  9.2467e-02, -2.7100e-01, -2.2959e-03,\n",
      "         -3.8754e-02,  2.1593e-01,  1.4102e-01, -7.8416e-02],\n",
      "        [-2.9957e-01,  1.5351e-01, -1.5052e-01,  4.8300e-02, -2.5455e-01,\n",
      "         -4.9712e-02, -1.0806e-01,  7.2935e-02, -2.7440e-01],\n",
      "        [-1.7178e-01,  1.5750e-02,  2.1460e-01,  1.0747e-02,  1.4989e-01,\n",
      "         -2.3696e-01,  3.2184e-01, -3.0894e-01, -3.0484e-01],\n",
      "        [-8.4868e-02, -1.4605e-01, -2.4844e-01, -1.4992e-01,  1.9657e-01,\n",
      "         -3.0209e-01,  3.2533e-01,  1.1861e-01,  1.9109e-01],\n",
      "        [ 8.8119e-02,  1.5126e-01, -2.8138e-01, -2.8666e-01, -2.3585e-01,\n",
      "         -9.9646e-03, -1.1529e-01, -1.1914e-02,  9.0043e-02],\n",
      "        [ 4.6096e-02, -4.4418e-03, -7.8488e-02, -1.3890e-01, -2.8709e-01,\n",
      "          4.5063e-02,  2.6268e-01,  2.5337e-01, -1.7410e-01],\n",
      "        [ 6.9930e-02,  2.8086e-01,  3.2175e-01, -2.6765e-01,  1.0476e-01,\n",
      "          5.1411e-02,  2.9714e-01, -6.4319e-02, -2.2255e-01],\n",
      "        [-5.2977e-02, -2.2924e-02,  1.1130e-01,  1.5485e-01, -1.9061e-01,\n",
      "         -3.1326e-01, -3.3183e-01,  4.7125e-02,  2.8126e-01],\n",
      "        [-1.0813e-01,  1.2552e-01,  2.6568e-01,  9.8222e-02, -2.9733e-01,\n",
      "         -1.3487e-01,  2.2073e-01,  9.0083e-02, -3.2010e-01],\n",
      "        [-1.1233e-01, -2.0401e-02,  2.9648e-01, -3.0799e-02,  1.6344e-01,\n",
      "          1.8081e-01,  2.3690e-01, -4.9811e-02,  1.0996e-01],\n",
      "        [ 2.7671e-02,  3.8026e-02, -3.0892e-01,  1.9825e-02, -2.7984e-01,\n",
      "         -6.9895e-02,  3.6840e-02, -2.6090e-01, -8.1956e-02],\n",
      "        [ 2.1421e-01, -2.0058e-01, -1.4971e-01,  8.2589e-02, -3.4995e-02,\n",
      "          2.1347e-01,  3.3230e-01,  4.7716e-02,  3.0299e-01],\n",
      "        [ 3.2048e-01,  1.3517e-01,  1.2383e-01,  2.5852e-01,  5.4392e-02,\n",
      "         -6.5382e-02, -1.6612e-01, -9.8545e-02,  3.1695e-01],\n",
      "        [ 1.5820e-01, -1.3426e-02,  4.3471e-02,  2.4936e-01, -1.8718e-01,\n",
      "         -1.5956e-02,  2.5847e-01, -2.9012e-01, -1.4007e-01],\n",
      "        [ 2.5288e-01,  3.1061e-01, -2.9464e-02, -1.5339e-01,  2.1198e-02,\n",
      "          1.6917e-01,  1.9142e-01, -3.1060e-01, -2.5640e-01],\n",
      "        [ 1.4421e-01, -1.1331e-01, -2.8292e-01, -1.5742e-01, -2.7831e-01,\n",
      "         -7.1807e-02,  7.1528e-02, -2.5548e-01, -2.4420e-01],\n",
      "        [-2.2776e-01,  1.5211e-01, -3.0073e-01, -1.5518e-01,  2.0736e-01,\n",
      "          2.4143e-03,  2.6984e-01, -1.5356e-01, -8.2957e-02],\n",
      "        [ 2.8211e-01,  2.0149e-01,  1.7125e-01, -1.7495e-01,  1.5725e-01,\n",
      "         -2.7458e-01, -3.0627e-02, -1.0930e-01, -1.5900e-01],\n",
      "        [-1.9836e-01, -2.4801e-02, -1.1867e-01,  2.9358e-01,  2.8295e-01,\n",
      "         -1.0350e-01, -9.5070e-02, -1.2960e-01,  1.1771e-01],\n",
      "        [-6.4687e-02,  2.4267e-01, -2.0233e-01, -1.6096e-01,  5.4284e-02,\n",
      "         -8.9321e-02, -1.9293e-02, -2.3532e-01, -2.9173e-01],\n",
      "        [-2.5113e-01, -1.3806e-01, -2.2637e-01, -9.0923e-02, -2.4062e-01,\n",
      "          1.9480e-01, -1.1546e-01, -1.1595e-04, -1.1901e-01],\n",
      "        [-2.6443e-02,  1.0637e-01, -1.4566e-01,  3.9802e-02, -6.6074e-02,\n",
      "         -1.9234e-01,  1.5787e-02,  3.1437e-02, -1.5432e-01],\n",
      "        [-1.2078e-01, -1.4700e-01, -1.0598e-01,  1.8480e-01,  2.9909e-01,\n",
      "         -3.2515e-01, -1.2811e-01,  2.5242e-01,  5.5365e-04],\n",
      "        [-2.3712e-01, -6.3437e-02,  2.2409e-01, -2.4313e-01,  6.6022e-02,\n",
      "          2.1423e-01,  2.8751e-01,  1.8212e-01, -1.1174e-01],\n",
      "        [-2.2211e-01,  1.2638e-01,  1.9744e-01, -2.2767e-01,  4.5445e-02,\n",
      "          1.6156e-01, -2.4552e-01,  6.8856e-03,  2.4807e-01],\n",
      "        [-2.7141e-02, -1.9145e-01,  3.5209e-02,  1.7865e-01, -1.5119e-01,\n",
      "          3.2557e-01, -6.0009e-02,  6.6507e-02, -3.2161e-01],\n",
      "        [ 1.7135e-01,  2.7868e-01, -6.5250e-02,  1.7546e-01, -2.4135e-02,\n",
      "         -3.2758e-01, -3.3813e-02, -2.8016e-01, -6.6396e-02],\n",
      "        [-4.9375e-02,  4.9578e-03, -1.7283e-02,  2.3566e-01,  2.9820e-02,\n",
      "          1.7240e-01, -9.3011e-04, -4.9286e-02, -2.2712e-01],\n",
      "        [-5.6728e-02, -2.1139e-01,  3.3028e-01,  2.4702e-01, -1.5894e-01,\n",
      "          1.5335e-02,  1.0708e-01,  2.9066e-01,  6.6811e-02],\n",
      "        [-1.3589e-01, -1.4588e-01, -2.4842e-01, -1.1766e-01, -2.8795e-01,\n",
      "         -7.7264e-03, -2.3160e-01,  3.3450e-02,  2.0322e-01],\n",
      "        [-3.7546e-02,  2.1883e-01,  1.4523e-01, -2.6325e-01,  1.0086e-01,\n",
      "          2.4712e-01, -2.5446e-01, -2.7363e-01,  3.1823e-01]],\n",
      "       requires_grad=True)), ('layer_in.bias', Parameter containing:\n",
      "tensor([-0.2434, -0.0454,  0.1058, -0.3117,  0.0255, -0.0846,  0.1098, -0.2774,\n",
      "         0.1396,  0.1016, -0.1477,  0.1482,  0.2425, -0.0361,  0.2748,  0.1795,\n",
      "        -0.2244,  0.3038,  0.2243, -0.0970, -0.3090, -0.1739,  0.3194,  0.3161,\n",
      "         0.2598, -0.2100,  0.1073, -0.2850, -0.2213, -0.3013,  0.0808, -0.3308,\n",
      "         0.0827,  0.0301, -0.3209,  0.0763, -0.2049,  0.3109, -0.2663, -0.2079,\n",
      "         0.0200, -0.0155,  0.2530,  0.1605, -0.2769, -0.1019, -0.2955,  0.1957,\n",
      "         0.1413, -0.0841,  0.1785,  0.2721,  0.1866, -0.0696,  0.1954, -0.1482,\n",
      "         0.2217,  0.1651, -0.0490, -0.0655,  0.0206,  0.2908, -0.0189],\n",
      "       requires_grad=True)), ('layer_2.weight', Parameter containing:\n",
      "tensor([[-5.0116e-02,  2.8221e-02, -9.6745e-02,  ..., -6.2172e-02,\n",
      "          1.2299e-01, -3.6469e-02],\n",
      "        [ 6.4764e-02,  4.5327e-05, -4.7919e-02,  ...,  9.2058e-02,\n",
      "          4.6813e-02,  1.2340e-01],\n",
      "        [ 1.1396e-01, -1.1114e-01, -7.6016e-02,  ...,  1.1132e-01,\n",
      "         -1.2204e-01,  1.0986e-01],\n",
      "        ...,\n",
      "        [ 1.1762e-01,  6.2677e-02, -7.5866e-02,  ...,  9.1318e-02,\n",
      "          6.2044e-02,  7.2883e-02],\n",
      "        [-6.2178e-02, -8.3086e-02, -1.0421e-01,  ...,  7.0550e-02,\n",
      "         -5.4803e-02,  7.7538e-02],\n",
      "        [-2.5038e-02, -7.0334e-02, -8.7883e-02,  ...,  7.5314e-02,\n",
      "         -1.1203e-01,  1.0555e-01]], requires_grad=True)), ('layer_2.bias', Parameter containing:\n",
      "tensor([-0.0403, -0.0614, -0.1212, -0.0229,  0.0927,  0.0845,  0.0128,  0.0691,\n",
      "         0.1247, -0.0606,  0.1074,  0.0039, -0.0694,  0.0775,  0.0111, -0.0015,\n",
      "         0.0048, -0.0662,  0.0101,  0.0614,  0.0108, -0.0134,  0.1230, -0.1176,\n",
      "         0.0642,  0.0033,  0.0804, -0.0679, -0.0883,  0.1254, -0.0813,  0.0286,\n",
      "         0.0098, -0.1027,  0.1238, -0.0734, -0.0341, -0.1228, -0.1172, -0.0011,\n",
      "         0.0144, -0.0299, -0.0446, -0.0721, -0.0875,  0.0287, -0.0881,  0.0364,\n",
      "        -0.0275, -0.0966,  0.0805,  0.1136,  0.0719, -0.0869,  0.1194, -0.0336,\n",
      "         0.0813, -0.0952,  0.0429, -0.0834, -0.0427,  0.0405,  0.1206],\n",
      "       requires_grad=True)), ('layer_out.weight', Parameter containing:\n",
      "tensor([[-0.0016,  0.0078,  0.1240, -0.0290,  0.0970,  0.0631, -0.0891, -0.0258,\n",
      "          0.1198,  0.1223, -0.0672,  0.1208,  0.1257,  0.0596,  0.0649, -0.0538,\n",
      "         -0.0579,  0.0640, -0.0859, -0.1239, -0.0993, -0.0273,  0.0375,  0.0452,\n",
      "          0.0111,  0.0923, -0.0711,  0.0154,  0.1255,  0.0711,  0.1197, -0.0638,\n",
      "          0.0372,  0.0969,  0.1250,  0.1046, -0.1182,  0.0781,  0.0384,  0.0025,\n",
      "         -0.0965,  0.1212,  0.0682,  0.0266,  0.0519, -0.1120, -0.0684,  0.1092,\n",
      "          0.0178,  0.1028,  0.1103,  0.0348, -0.0021,  0.0938, -0.0388,  0.0992,\n",
      "          0.0872,  0.0795, -0.0040, -0.0170, -0.0986, -0.0372, -0.0936]],\n",
      "       requires_grad=True)), ('layer_out.bias', Parameter containing:\n",
      "tensor([-0.0864], requires_grad=True)), ('batchnorm1.weight', Parameter containing:\n",
      "tensor([1., 1., 1., 1., 1., 1., 1., 1., 1., 1., 1., 1., 1., 1., 1., 1., 1., 1.,\n",
      "        1., 1., 1., 1., 1., 1., 1., 1., 1., 1., 1., 1., 1., 1., 1., 1., 1., 1.,\n",
      "        1., 1., 1., 1., 1., 1., 1., 1., 1., 1., 1., 1., 1., 1., 1., 1., 1., 1.,\n",
      "        1., 1., 1., 1., 1., 1., 1., 1., 1.], requires_grad=True)), ('batchnorm1.bias', Parameter containing:\n",
      "tensor([0., 0., 0., 0., 0., 0., 0., 0., 0., 0., 0., 0., 0., 0., 0., 0., 0., 0., 0., 0., 0., 0., 0., 0.,\n",
      "        0., 0., 0., 0., 0., 0., 0., 0., 0., 0., 0., 0., 0., 0., 0., 0., 0., 0., 0., 0., 0., 0., 0., 0.,\n",
      "        0., 0., 0., 0., 0., 0., 0., 0., 0., 0., 0., 0., 0., 0., 0.],\n",
      "       requires_grad=True)), ('batchnorm2.weight', Parameter containing:\n",
      "tensor([1., 1., 1., 1., 1., 1., 1., 1., 1., 1., 1., 1., 1., 1., 1., 1., 1., 1.,\n",
      "        1., 1., 1., 1., 1., 1., 1., 1., 1., 1., 1., 1., 1., 1., 1., 1., 1., 1.,\n",
      "        1., 1., 1., 1., 1., 1., 1., 1., 1., 1., 1., 1., 1., 1., 1., 1., 1., 1.,\n",
      "        1., 1., 1., 1., 1., 1., 1., 1., 1.], requires_grad=True)), ('batchnorm2.bias', Parameter containing:\n",
      "tensor([0., 0., 0., 0., 0., 0., 0., 0., 0., 0., 0., 0., 0., 0., 0., 0., 0., 0., 0., 0., 0., 0., 0., 0.,\n",
      "        0., 0., 0., 0., 0., 0., 0., 0., 0., 0., 0., 0., 0., 0., 0., 0., 0., 0., 0., 0., 0., 0., 0., 0.,\n",
      "        0., 0., 0., 0., 0., 0., 0., 0., 0., 0., 0., 0., 0., 0., 0.],\n",
      "       requires_grad=True))]\n"
     ]
    }
   ],
   "source": [
    "# print(list(model.named_parameters()))"
   ],
   "metadata": {
    "collapsed": false
   }
  },
  {
   "cell_type": "code",
   "execution_count": 25,
   "outputs": [],
   "source": [
    "# Init loss function (Binary Cross Entropy Loss) (we assume that target is equally distributed)\n",
    "loss_function = nn.BCEWithLogitsLoss()\n",
    "\n",
    "optimizer = optim.Adam(model.parameters(), lr=0.001)"
   ],
   "metadata": {
    "collapsed": false
   }
  },
  {
   "cell_type": "markdown",
   "source": [
    "### DataLoaders and Dataset"
   ],
   "metadata": {
    "collapsed": false
   }
  },
  {
   "cell_type": "markdown",
   "source": [
    "Before training, we should implement custom Dataset class"
   ],
   "metadata": {
    "collapsed": false
   }
  },
  {
   "cell_type": "code",
   "execution_count": 26,
   "outputs": [],
   "source": [
    "class TitanicTrainDataset(Dataset):\n",
    "\n",
    "    def __init__(self, X_data, y_data):\n",
    "        self.X_data = X_data\n",
    "        self.y_data = y_data\n",
    "\n",
    "    def __getitem__(self, index):\n",
    "        \"\"\" Return the single observation, including both independent and dependent variable \"\"\"\n",
    "        # Convert idx from tensor to list due to pandas bug (that arises when using pytorch's random_split)\n",
    "        # if isinstance(index, torch.Tensor):\n",
    "        #     index = index.tolist()\n",
    "\n",
    "        return self.X_data[index], self.y_data[index]\n",
    "        # return [self.X_data.iloc[index].values, self.y_data[index]]\n",
    "\n",
    "    def __len__(self):\n",
    "        \"\"\" Return the number of rows from tabular data \"\"\"\n",
    "        return len(self.X_data)"
   ],
   "metadata": {
    "collapsed": false
   }
  },
  {
   "cell_type": "code",
   "execution_count": 27,
   "outputs": [],
   "source": [
    "class TitanicTestDataset(Dataset):\n",
    "\n",
    "    def __init__(self, X_data):\n",
    "        self.X_data = X_data\n",
    "\n",
    "    def __getitem__(self, index):\n",
    "        \"\"\" Return the single observation, including only independent variable \"\"\"\n",
    "        if isinstance(index, torch.Tensor):\n",
    "            index = index.tolist()\n",
    "\n",
    "        return self.X_data[index]\n",
    "\n",
    "    def __len__(self):\n",
    "        \"\"\" Return the number of rows from tabular data \"\"\"\n",
    "        return len(self.X_data)"
   ],
   "metadata": {
    "collapsed": false
   }
  },
  {
   "cell_type": "code",
   "execution_count": 28,
   "outputs": [],
   "source": [
    "train_data = TitanicTrainDataset(torch.Tensor(X_train.values), torch.Tensor(y_train.values))\n",
    "test_data = TitanicTestDataset(torch.Tensor(X_test.values))"
   ],
   "metadata": {
    "collapsed": false
   }
  },
  {
   "cell_type": "code",
   "execution_count": 29,
   "outputs": [
    {
     "data": {
      "text/plain": "596"
     },
     "execution_count": 29,
     "metadata": {},
     "output_type": "execute_result"
    }
   ],
   "source": [
    "# Test len method\n",
    "train_data.__len__()"
   ],
   "metadata": {
    "collapsed": false
   }
  },
  {
   "cell_type": "code",
   "execution_count": 30,
   "outputs": [
    {
     "data": {
      "text/plain": "891"
     },
     "execution_count": 30,
     "metadata": {},
     "output_type": "execute_result"
    }
   ],
   "source": [
    "train.__len__()"
   ],
   "metadata": {
    "collapsed": false
   }
  },
  {
   "cell_type": "code",
   "execution_count": 31,
   "outputs": [
    {
     "data": {
      "text/plain": "0    374\n1    222\nName: Survived, dtype: int64"
     },
     "execution_count": 31,
     "metadata": {},
     "output_type": "execute_result"
    }
   ],
   "source": [
    "y_train.value_counts()"
   ],
   "metadata": {
    "collapsed": false
   }
  },
  {
   "cell_type": "code",
   "execution_count": 32,
   "outputs": [
    {
     "data": {
      "text/plain": "(tensor([718.0000,   3.0000,  24.0000,   0.0000,   0.0000,  15.5000,   1.0000,\n           0.0000,   1.0000]),\n tensor(0.))"
     },
     "execution_count": 32,
     "metadata": {},
     "output_type": "execute_result"
    }
   ],
   "source": [
    "# Test getitem method\n",
    "train_data.__getitem__(1)"
   ],
   "metadata": {
    "collapsed": false
   }
  },
  {
   "cell_type": "code",
   "execution_count": 33,
   "outputs": [],
   "source": [
    "# Initialize dataloaders\n",
    "BATCH_SIZE_TRAIN = 64\n",
    "BATCH_SIZE_TEST = 1\n",
    "train_dataloader = DataLoader(dataset=train_data, batch_size=BATCH_SIZE_TRAIN, shuffle=True)\n",
    "test_dataloader = DataLoader(dataset=test_data, batch_size=BATCH_SIZE_TEST, shuffle=False)"
   ],
   "metadata": {
    "collapsed": false
   }
  },
  {
   "cell_type": "markdown",
   "source": [
    "### Train"
   ],
   "metadata": {
    "collapsed": false
   }
  },
  {
   "cell_type": "code",
   "execution_count": 34,
   "outputs": [],
   "source": [
    "# Define binary accuracy function\n",
    "def binary_acc(y_pred, y_test):\n",
    "    y_pred_tag = torch.round(torch.sigmoid(y_pred))\n",
    "\n",
    "    correct_results_sum = (y_pred_tag == y_test).sum().float()\n",
    "    acc = correct_results_sum/y_test.shape[0]\n",
    "    acc = torch.round(acc * 100)\n",
    "\n",
    "    return acc"
   ],
   "metadata": {
    "collapsed": false
   }
  },
  {
   "cell_type": "code",
   "execution_count": 35,
   "outputs": [
    {
     "name": "stdout",
     "output_type": "stream",
     "text": [
      "Epoch 001: | Loss: 0.70574 | Acc: 55.100\n",
      "Epoch 002: | Loss: 0.66157 | Acc: 64.500\n",
      "Epoch 003: | Loss: 0.63523 | Acc: 68.500\n",
      "Epoch 004: | Loss: 0.63526 | Acc: 64.300\n",
      "Epoch 005: | Loss: 0.61664 | Acc: 67.800\n",
      "Epoch 006: | Loss: 0.61650 | Acc: 67.000\n",
      "Epoch 007: | Loss: 0.59865 | Acc: 68.700\n",
      "Epoch 008: | Loss: 0.60384 | Acc: 67.700\n",
      "Epoch 009: | Loss: 0.59952 | Acc: 69.100\n",
      "Epoch 010: | Loss: 0.58293 | Acc: 69.800\n",
      "Epoch 011: | Loss: 0.60432 | Acc: 67.400\n",
      "Epoch 012: | Loss: 0.60576 | Acc: 69.100\n",
      "Epoch 013: | Loss: 0.59110 | Acc: 67.900\n",
      "Epoch 014: | Loss: 0.59467 | Acc: 68.100\n",
      "Epoch 015: | Loss: 0.58440 | Acc: 69.500\n",
      "Epoch 016: | Loss: 0.57993 | Acc: 68.000\n",
      "Epoch 017: | Loss: 0.57001 | Acc: 70.300\n",
      "Epoch 018: | Loss: 0.59422 | Acc: 68.300\n",
      "Epoch 019: | Loss: 0.58871 | Acc: 67.600\n",
      "Epoch 020: | Loss: 0.58270 | Acc: 70.300\n",
      "Epoch 021: | Loss: 0.56985 | Acc: 70.700\n",
      "Epoch 022: | Loss: 0.57744 | Acc: 70.600\n",
      "Epoch 023: | Loss: 0.56966 | Acc: 69.900\n",
      "Epoch 024: | Loss: 0.52889 | Acc: 74.400\n",
      "Epoch 025: | Loss: 0.51993 | Acc: 74.700\n",
      "Epoch 026: | Loss: 0.48755 | Acc: 77.500\n",
      "Epoch 027: | Loss: 0.50888 | Acc: 74.000\n",
      "Epoch 028: | Loss: 0.50060 | Acc: 77.700\n",
      "Epoch 029: | Loss: 0.48189 | Acc: 78.700\n",
      "Epoch 030: | Loss: 0.46662 | Acc: 77.600\n",
      "Epoch 031: | Loss: 0.45893 | Acc: 79.200\n",
      "Epoch 032: | Loss: 0.47297 | Acc: 78.600\n",
      "Epoch 033: | Loss: 0.46448 | Acc: 79.000\n",
      "Epoch 034: | Loss: 0.44832 | Acc: 80.400\n",
      "Epoch 035: | Loss: 0.46304 | Acc: 79.500\n",
      "Epoch 036: | Loss: 0.44087 | Acc: 79.600\n",
      "Epoch 037: | Loss: 0.43348 | Acc: 81.100\n",
      "Epoch 038: | Loss: 0.46144 | Acc: 77.900\n",
      "Epoch 039: | Loss: 0.44418 | Acc: 79.900\n",
      "Epoch 040: | Loss: 0.44432 | Acc: 80.600\n",
      "Epoch 041: | Loss: 0.42018 | Acc: 81.400\n",
      "Epoch 042: | Loss: 0.45068 | Acc: 79.500\n",
      "Epoch 043: | Loss: 0.43692 | Acc: 81.500\n",
      "Epoch 044: | Loss: 0.43824 | Acc: 80.700\n",
      "Epoch 045: | Loss: 0.41368 | Acc: 82.000\n",
      "Epoch 046: | Loss: 0.44697 | Acc: 80.000\n",
      "Epoch 047: | Loss: 0.43260 | Acc: 79.900\n",
      "Epoch 048: | Loss: 0.42746 | Acc: 80.100\n",
      "Epoch 049: | Loss: 0.41756 | Acc: 79.600\n",
      "Epoch 050: | Loss: 0.40789 | Acc: 82.700\n"
     ]
    }
   ],
   "source": [
    "EPOCHS = 50\n",
    "\n",
    "loss_list = []\n",
    "validate_loss_list = []\n",
    "\n",
    "# Prepare model for training (default state)\n",
    "model.train()\n",
    "\n",
    "for e in range(1, EPOCHS+1):\n",
    "\n",
    "    # Init loss and acc per epoch to zero\n",
    "    epoch_loss = 0\n",
    "    epoch_acc = 0\n",
    "\n",
    "    # For loop to get our data in batches from dataloader\n",
    "    for X_batch, y_batch in train_dataloader:\n",
    "\n",
    "        # Load batches into memory (device)\n",
    "        X_batch, y_batch = X_batch.to(device), y_batch.to(device)\n",
    "\n",
    "        # Set .grad attribute of all tensors to zero (otherwise we would accumulate it with .backwards())\n",
    "        optimizer.zero_grad()\n",
    "\n",
    "        # Forward pass (use input data to make prediction)\n",
    "        y_pred = model(X_batch)\n",
    "\n",
    "        # Calculate loss based on prediction and true value\n",
    "        loss = loss_function(y_pred, y_batch.unsqueeze(1))\n",
    "        acc = binary_acc(y_pred, y_batch.unsqueeze(1))\n",
    "\n",
    "        loss_list.append(loss.item())\n",
    "\n",
    "        # We backpropagate this error through the network\n",
    "        # The gradient is calculated for tensors which requires_grad=True\n",
    "        loss.backward()\n",
    "\n",
    "        # Adjust each parameter (weight and bias) by its gradient stored in .grad\n",
    "        optimizer.step()\n",
    "\n",
    "        # Calculate loss and accuracy\n",
    "        epoch_loss += loss.item()\n",
    "        epoch_acc += acc.item()\n",
    "\n",
    "    print(f'Epoch {e+0:03}: | Loss: {epoch_loss/len(train_dataloader):.5f} | Acc: {epoch_acc/len(train_dataloader):.3f}')"
   ],
   "metadata": {
    "collapsed": false
   }
  },
  {
   "cell_type": "code",
   "execution_count": 36,
   "outputs": [
    {
     "data": {
      "text/plain": "Text(0, 0.5, 'BCE Loss')"
     },
     "execution_count": 36,
     "metadata": {},
     "output_type": "execute_result"
    },
    {
     "data": {
      "text/plain": "<Figure size 640x480 with 1 Axes>",
      "image/png": "[encoded data removed]"
     },
     "metadata": {},
     "output_type": "display_data"
    }
   ],
   "source": [
    "import matplotlib.pyplot as plt\n",
    "plt.plot(loss_list)\n",
    "# plt.plot(validate_loss_list, linewidth=3)\n",
    "plt.legend((\"Training Loss\", \"Validation Loss\"))\n",
    "plt.xlabel(\"Epoch\")\n",
    "plt.ylabel(\"BCE Loss\")"
   ],
   "metadata": {
    "collapsed": false
   }
  },
  {
   "cell_type": "markdown",
   "source": [
    "### Test"
   ],
   "metadata": {
    "collapsed": false
   }
  },
  {
   "cell_type": "code",
   "execution_count": 37,
   "outputs": [],
   "source": [
    "y_pred_list = []\n",
    "\n",
    "# Prepare model for testing\n",
    "model.eval()\n",
    "\n",
    "# We don't want to perform backpropagation\n",
    "with torch.no_grad():\n",
    "\n",
    "    # Go through batches\n",
    "    for X_batch in test_dataloader:\n",
    "\n",
    "        # Load batch into memory\n",
    "        X_batch = X_batch.to(device)\n",
    "\n",
    "        # Get the result\n",
    "        y_test_pred = model(X_batch)\n",
    "\n",
    "        y_test_pred = torch.sigmoid(y_test_pred)\n",
    "\n",
    "        # Round probabilities to 0 or 1\n",
    "        y_pred_tag = torch.round(y_test_pred)\n",
    "\n",
    "        # Convert tensor to numpy object\n",
    "        y_pred_list.append(y_pred_tag.cpu().numpy())\n",
    "\n",
    "# Flatten the list to use confusion matrix and classification report\n",
    "y_pred_list = [a.squeeze().tolist() for a in y_pred_list]"
   ],
   "metadata": {
    "collapsed": false
   }
  },
  {
   "cell_type": "code",
   "execution_count": 38,
   "outputs": [
    {
     "data": {
      "text/plain": "array([[146,  29],\n       [ 28,  92]])"
     },
     "execution_count": 38,
     "metadata": {},
     "output_type": "execute_result"
    }
   ],
   "source": [
    "from sklearn.metrics import confusion_matrix, classification_report\n",
    "\n",
    "# Plot confusion matrix\n",
    "confusion_matrix(y_test, y_pred_list)"
   ],
   "metadata": {
    "collapsed": false
   }
  },
  {
   "cell_type": "code",
   "execution_count": 39,
   "outputs": [
    {
     "name": "stdout",
     "output_type": "stream",
     "text": [
      "              precision    recall  f1-score   support\n",
      "\n",
      "           0       0.84      0.83      0.84       175\n",
      "           1       0.76      0.77      0.76       120\n",
      "\n",
      "    accuracy                           0.81       295\n",
      "   macro avg       0.80      0.80      0.80       295\n",
      "weighted avg       0.81      0.81      0.81       295\n",
      "\n"
     ]
    }
   ],
   "source": [
    "print(classification_report(y_test, y_pred_list))"
   ],
   "metadata": {
    "collapsed": false
   }
  },
  {
   "cell_type": "markdown",
   "source": [
    "### Submit"
   ],
   "metadata": {
    "collapsed": false
   }
  },
  {
   "cell_type": "markdown",
   "source": [
    "### Preprocessing"
   ],
   "metadata": {
    "collapsed": false
   }
  },
  {
   "cell_type": "code",
   "execution_count": 40,
   "outputs": [
    {
     "data": {
      "text/plain": "             index  Pclass   Age  SibSp  Parch      Fare  Embarked  Male  \\\nPassengerId                                                                \n892              0       3  34.5      0      0    7.8292         1   0.0   \n893              1       3  47.0      1      0    7.0000         2   1.0   \n894              2       2  62.0      0      0    9.6875         1   0.0   \n895              3       3  27.0      0      0    8.6625         2   0.0   \n896              4       3  22.0      1      1   12.2875         2   1.0   \n...            ...     ...   ...    ...    ...       ...       ...   ...   \n1305           413       3  24.0      0      0    8.0500         2   0.0   \n1306           414       1  39.0      0      0  108.9000         0   1.0   \n1307           415       3  38.5      0      0    7.2500         2   0.0   \n1308           416       3  24.0      0      0    8.0500         2   0.0   \n1309           417       3  24.0      1      1   22.3583         0   0.0   \n\n             Female  \nPassengerId          \n892             1.0  \n893             0.0  \n894             1.0  \n895             1.0  \n896             0.0  \n...             ...  \n1305            1.0  \n1306            0.0  \n1307            1.0  \n1308            1.0  \n1309            1.0  \n\n[418 rows x 9 columns]",
      "text/html": "<div>\n<style scoped>\n    .dataframe tbody tr th:only-of-type {\n        vertical-align: middle;\n    }\n\n    .dataframe tbody tr th {\n        vertical-align: top;\n    }\n\n    .dataframe thead th {\n        text-align: right;\n    }\n</style>\n<table border=\"1\" class=\"dataframe\">\n  <thead>\n    <tr style=\"text-align: right;\">\n      <th></th>\n      <th>index</th>\n      <th>Pclass</th>\n      <th>Age</th>\n      <th>SibSp</th>\n      <th>Parch</th>\n      <th>Fare</th>\n      <th>Embarked</th>\n      <th>Male</th>\n      <th>Female</th>\n    </tr>\n    <tr>\n      <th>PassengerId</th>\n      <th></th>\n      <th></th>\n      <th></th>\n      <th></th>\n      <th></th>\n      <th></th>\n      <th></th>\n      <th></th>\n      <th></th>\n    </tr>\n  </thead>\n  <tbody>\n    <tr>\n      <th>892</th>\n      <td>0</td>\n      <td>3</td>\n      <td>34.5</td>\n      <td>0</td>\n      <td>0</td>\n      <td>7.8292</td>\n      <td>1</td>\n      <td>0.0</td>\n      <td>1.0</td>\n    </tr>\n    <tr>\n      <th>893</th>\n      <td>1</td>\n      <td>3</td>\n      <td>47.0</td>\n      <td>1</td>\n      <td>0</td>\n      <td>7.0000</td>\n      <td>2</td>\n      <td>1.0</td>\n      <td>0.0</td>\n    </tr>\n    <tr>\n      <th>894</th>\n      <td>2</td>\n      <td>2</td>\n      <td>62.0</td>\n      <td>0</td>\n      <td>0</td>\n      <td>9.6875</td>\n      <td>1</td>\n      <td>0.0</td>\n      <td>1.0</td>\n    </tr>\n    <tr>\n      <th>895</th>\n      <td>3</td>\n      <td>3</td>\n      <td>27.0</td>\n      <td>0</td>\n      <td>0</td>\n      <td>8.6625</td>\n      <td>2</td>\n      <td>0.0</td>\n      <td>1.0</td>\n    </tr>\n    <tr>\n      <th>896</th>\n      <td>4</td>\n      <td>3</td>\n      <td>22.0</td>\n      <td>1</td>\n      <td>1</td>\n      <td>12.2875</td>\n      <td>2</td>\n      <td>1.0</td>\n      <td>0.0</td>\n    </tr>\n    <tr>\n      <th>...</th>\n      <td>...</td>\n      <td>...</td>\n      <td>...</td>\n      <td>...</td>\n      <td>...</td>\n      <td>...</td>\n      <td>...</td>\n      <td>...</td>\n      <td>...</td>\n    </tr>\n    <tr>\n      <th>1305</th>\n      <td>413</td>\n      <td>3</td>\n      <td>24.0</td>\n      <td>0</td>\n      <td>0</td>\n      <td>8.0500</td>\n      <td>2</td>\n      <td>0.0</td>\n      <td>1.0</td>\n    </tr>\n    <tr>\n      <th>1306</th>\n      <td>414</td>\n      <td>1</td>\n      <td>39.0</td>\n      <td>0</td>\n      <td>0</td>\n      <td>108.9000</td>\n      <td>0</td>\n      <td>1.0</td>\n      <td>0.0</td>\n    </tr>\n    <tr>\n      <th>1307</th>\n      <td>415</td>\n      <td>3</td>\n      <td>38.5</td>\n      <td>0</td>\n      <td>0</td>\n      <td>7.2500</td>\n      <td>2</td>\n      <td>0.0</td>\n      <td>1.0</td>\n    </tr>\n    <tr>\n      <th>1308</th>\n      <td>416</td>\n      <td>3</td>\n      <td>24.0</td>\n      <td>0</td>\n      <td>0</td>\n      <td>8.0500</td>\n      <td>2</td>\n      <td>0.0</td>\n      <td>1.0</td>\n    </tr>\n    <tr>\n      <th>1309</th>\n      <td>417</td>\n      <td>3</td>\n      <td>24.0</td>\n      <td>1</td>\n      <td>1</td>\n      <td>22.3583</td>\n      <td>0</td>\n      <td>0.0</td>\n      <td>1.0</td>\n    </tr>\n  </tbody>\n</table>\n<p>418 rows × 9 columns</p>\n</div>"
     },
     "execution_count": 40,
     "metadata": {},
     "output_type": "execute_result"
    }
   ],
   "source": [
    "# Use fillna with most frequent values\n",
    "test.fillna(modes, inplace=True)\n",
    "test.reset_index(inplace=True)\n",
    "\n",
    "test.drop(columns=['Name', 'Ticket', 'Cabin'], inplace=True)\n",
    "\n",
    "# Use one_hot_encode for gender\n",
    "gender_test = one_hot_encoder.transform(test[['Sex']])\n",
    "gender_test_df = pd.DataFrame(gender_test.toarray(), columns=['Male', 'Female'])\n",
    "\n",
    "# Merge train with encoded gender\n",
    "test = pd.concat([test, gender_test_df], axis=1)\n",
    "\n",
    "# Drop unused column\n",
    "test.drop(columns=['Sex'], inplace=True)\n",
    "\n",
    "# Encode 'Embarked' with label encoder\n",
    "test['Embarked'] = label_encoder.transform(test['Embarked'])\n",
    "\n",
    "# Set PassangerID as index\n",
    "test.set_index('PassengerId', inplace=True)\n",
    "\n",
    "# Print\n",
    "test"
   ],
   "metadata": {
    "collapsed": false
   }
  },
  {
   "cell_type": "markdown",
   "source": [
    "### Predict"
   ],
   "metadata": {
    "collapsed": false
   }
  },
  {
   "cell_type": "code",
   "execution_count": 41,
   "outputs": [],
   "source": [
    "# Apply model on test data\n",
    "sub_X = torch.tensor(test.values)\n",
    "\n",
    "# Get the results\n",
    "sub_y = titanic_network(sub_X.float())\n",
    "\n",
    "# Get survived\n",
    "survived = torch.heaviside(sub_y, values=torch.tensor([0.0]))"
   ],
   "metadata": {
    "collapsed": false
   }
  },
  {
   "cell_type": "code",
   "execution_count": 42,
   "outputs": [],
   "source": [
    "test.reset_index(inplace=True)"
   ],
   "metadata": {
    "collapsed": false
   }
  },
  {
   "cell_type": "code",
   "execution_count": 43,
   "outputs": [],
   "source": [
    "test['Survived'] = survived.detach().numpy().astype(int)\n",
    "sub_df = test[['PassengerId', 'Survived']]\n",
    "sub_df.to_csv('submission/sub-pytorch.csv', index=False)"
   ],
   "metadata": {
    "collapsed": false
   }
  },
  {
   "cell_type": "code",
   "execution_count": 44,
   "outputs": [
    {
     "name": "stdout",
     "output_type": "stream",
     "text": [
      "PassengerId,Survived\r\n",
      "892,0\r\n",
      "893,0\r\n",
      "894,0\r\n",
      "895,0\r\n",
      "896,0\r\n",
      "897,0\r\n",
      "898,1\r\n",
      "899,0\r\n",
      "900,1\r\n"
     ]
    }
   ],
   "source": [
    "!head 'submission/sub-fastai.csv'"
   ],
   "metadata": {
    "collapsed": false
   }
  }
 ],
 "metadata": {
  "kernelspec": {
   "display_name": "Python 3",
   "language": "python",
   "name": "python3"
  },
  "language_info": {
   "codemirror_mode": {
    "name": "ipython",
    "version": 2
   },
   "file_extension": ".py",
   "mimetype": "text/x-python",
   "name": "python",
   "nbconvert_exporter": "python",
   "pygments_lexer": "ipython2",
   "version": "2.7.6"
  }
 },
 "nbformat": 4,
 "nbformat_minor": 0
}
